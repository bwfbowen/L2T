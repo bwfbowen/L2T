{
 "cells": [
  {
   "cell_type": "code",
   "execution_count": 1,
   "metadata": {},
   "outputs": [
    {
     "name": "stderr",
     "output_type": "stream",
     "text": [
      "/opt/conda/envs/rlor38/lib/python3.8/site-packages/tqdm/auto.py:21: TqdmWarning: IProgress not found. Please update jupyter and ipywidgets. See https://ipywidgets.readthedocs.io/en/stable/user_install.html\n",
      "  from .autonotebook import tqdm as notebook_tqdm\n"
     ]
    }
   ],
   "source": [
    "import os \n",
    "import numpy as np\n",
    "import torch \n",
    "from stable_baselines3 import PPO, DQN\n",
    "\n",
    "from src.env import MultiODEnv, SparseMultiODEnv\n",
    "from src.problem import MultiODProblem\n",
    "from src.utils import read_instance_data\n",
    "from src.rl.stable_baselines3.nn import PSExtractor\n",
    "from src.rl.stable_baselines3.callback import SaveBestSolCallback"
   ]
  },
  {
   "cell_type": "code",
   "execution_count": 2,
   "metadata": {},
   "outputs": [],
   "source": [
    "instance_dir = os.path.join('data', 'tsppdlib', 'instances', 'random-uniform')\n",
    "instances = [i for i in os.listdir(instance_dir) if i.endswith('.tsp')]\n",
    "num_Os = [\"005\", \"010\", \"020\", \"050\"]\n",
    "num_O = '020'"
   ]
  },
  {
   "cell_type": "code",
   "execution_count": 3,
   "metadata": {},
   "outputs": [],
   "source": [
    "episode_max_time_length = int(1e3)\n",
    "episode_max_length = int(2e4)\n",
    "n_steps = episode_max_length\n",
    "learn_totoal_steps = int(2e3) * episode_max_length\n",
    "verbose = 1\n",
    "batch_size = 1000\n",
    "tensorboard_log = '../tmp/ppo'\n",
    "callback_log_dir = '../tmp/paths'"
   ]
  },
  {
   "cell_type": "code",
   "execution_count": 4,
   "metadata": {},
   "outputs": [
    {
     "name": "stderr",
     "output_type": "stream",
     "text": [
      "/opt/conda/envs/rlor38/lib/python3.8/site-packages/gymnasium/spaces/box.py:130: UserWarning: \u001b[33mWARN: Box bound precision lowered by casting to float32\u001b[0m\n",
      "  gym.logger.warn(f\"Box bound precision lowered by casting to {self.dtype}\")\n"
     ]
    }
   ],
   "source": [
    "instance_name = 'random-020-12952.tsp'\n",
    "target_cost = 6393\n",
    "instance = f'/home/fangbowen/LAHR/data/tsppdlib/instances/random-uniform/{instance_name}'\n",
    "locations = read_instance_data(instance)\n",
    "problem = MultiODProblem(locations=locations, ignore_to_dummy_cost=False)\n",
    "env = MultiODEnv(problem=problem, max_length=episode_max_length, max_time_length=episode_max_time_length)"
   ]
  },
  {
   "cell_type": "code",
   "execution_count": 5,
   "metadata": {},
   "outputs": [
    {
     "name": "stdout",
     "output_type": "stream",
     "text": [
      "Using cuda device\n",
      "Wrapping the env with a `Monitor` wrapper\n",
      "Wrapping the env in a DummyVecEnv.\n"
     ]
    }
   ],
   "source": [
    "features_dim = env.observation_space['solution'].shape[-1] + env.observation_space['problem'].shape[0]\n",
    "hidden_dim = 64\n",
    "num_heads = 4\n",
    "lr = 0.001\n",
    "\n",
    "policy_kwargs = dict(\n",
    "    features_extractor_class=PSExtractor,\n",
    "    features_extractor_kwargs=dict(features_dim=features_dim, \n",
    "                                   sol_input_dim=env.observation_space['solution'].shape[-1],\n",
    "                                   hidden_dim=hidden_dim,\n",
    "                                   num_heads=num_heads),\n",
    "    net_arch=dict(pi=[64, 64], vf=[64, 64])\n",
    ")\n",
    "model = PPO(\"MultiInputPolicy\", env, policy_kwargs=policy_kwargs, verbose=verbose, n_steps=n_steps, batch_size=batch_size, learning_rate=lr, tensorboard_log=tensorboard_log)\n",
    "# model = DQN(\"MultiInputPolicy\", env, policy_kwargs=policy_kwargs, verbose=verbose, train_freq=n_steps, batch_size=batch_size, tensorboard_log=tensorboard_log)"
   ]
  },
  {
   "cell_type": "code",
   "execution_count": 6,
   "metadata": {},
   "outputs": [
    {
     "name": "stdout",
     "output_type": "stream",
     "text": [
      "Logging to ../tmp/ppo/random-020-12952_2\n",
      "Best solution cost: 19293.63056263959, found at 1 step, 1.53 seconds used\n",
      "Best solution cost: 19083.379162339475, found at 2 step, 1.55 seconds used\n",
      "Best solution cost: 14130.878682037415, found at 3 step, 1.56 seconds used\n",
      "Best solution cost: 12386.298489789795, found at 4 step, 1.57 seconds used\n",
      "Best solution cost: 11585.866652596698, found at 7 step, 1.61 seconds used\n",
      "Best solution cost: 8993.36976806637, found at 12 step, 1.63 seconds used\n",
      "Best solution cost: 7214.991073170043, found at 13 step, 1.71 seconds used\n",
      "Best solution cost: 7153.316205472792, found at 17 step, 1.76 seconds used\n",
      "Best solution cost: 7018.93954486136, found at 131 step, 2.68 seconds used\n",
      "Best solution cost: 6887.649184785583, found at 279 step, 3.52 seconds used\n",
      "Best solution cost: 6869.884121503525, found at 383 step, 4.32 seconds used\n",
      "Best solution cost: 6613.545453372177, found at 516 step, 5.30 seconds used\n",
      "Best solution cost: 6545.163756974672, found at 1610 step, 12.19 seconds used\n",
      "Best solution cost: 6435.766749334206, found at 2018 step, 15.07 seconds used\n",
      "Best solution cost: 6398.639127792697, found at 13632 step, 97.28 seconds used\n",
      "Rollout best solution cost: 6398.639127792697, \n",
      "                  found at 13632 step, \n",
      "                  97.29 seconds used. \n",
      "\n",
      "                  Convergence gap: 6398.639127792697. Target gap: 5.639127792696854\n",
      "---------------------------------------------\n",
      "| best/                          |          |\n",
      "|    best_cost                   | 6.4e+03  |\n",
      "|    best_sol_at_step            | 13632    |\n",
      "|    best_sol_found_time         | 97.3     |\n",
      "| rollout/                       |          |\n",
      "|    convergence_gap             | 6.4e+03  |\n",
      "|    ep_len_mean                 | 2e+04    |\n",
      "|    ep_rew_mean                 | 1.62e+06 |\n",
      "|    rollout_best_cost           | 6.4e+03  |\n",
      "|    rollout_best_sol_at_step    | 13632    |\n",
      "|    rollout_best_sol_found_time | 97.3     |\n",
      "|    target_gap                  | 5.64     |\n",
      "| time/                          |          |\n",
      "|    fps                         | 140      |\n",
      "|    iterations                  | 1        |\n",
      "|    time_elapsed                | 142      |\n",
      "|    total_timesteps             | 20000    |\n",
      "---------------------------------------------\n"
     ]
    }
   ],
   "source": [
    "instance_save_as = instance_name[:instance_name.index('.tsp')]\n",
    "model.learn(learn_totoal_steps, \n",
    "            tb_log_name=instance_save_as,\n",
    "            callback=SaveBestSolCallback(log_dir=callback_log_dir, \n",
    "                                         instance_name=instance_save_as, \n",
    "                                         verbose=verbose,\n",
    "                                         target_cost=target_cost)\n",
    "            )"
   ]
  }
 ],
 "metadata": {
  "kernelspec": {
   "display_name": "rlor38",
   "language": "python",
   "name": "python3"
  },
  "language_info": {
   "codemirror_mode": {
    "name": "ipython",
    "version": 3
   },
   "file_extension": ".py",
   "mimetype": "text/x-python",
   "name": "python",
   "nbconvert_exporter": "python",
   "pygments_lexer": "ipython3",
   "version": "3.8.17"
  },
  "orig_nbformat": 4
 },
 "nbformat": 4,
 "nbformat_minor": 2
}
