{
 "cells": [
  {
   "cell_type": "code",
   "execution_count": null,
   "metadata": {
    "colab": {
     "base_uri": "https://localhost:8080/",
     "height": 381
    },
    "executionInfo": {
     "elapsed": 6,
     "status": "error",
     "timestamp": 1690787984890,
     "user": {
      "displayName": "Zhengkun Pan",
      "userId": "03400554293050403725"
     },
     "user_tz": -480
    },
    "id": "m4qm33iY0H0F",
    "outputId": "4ab35bf4-e6d5-4d97-a35b-26f22b8247d9"
   },
   "outputs": [],
   "source": [
    "import matplotlib.pyplot as plt\n",
    "import os\n",
    "import random \n",
    "import time\n",
    "import re\n",
    "from tqdm import tqdm\n",
    "\n",
    "from src.problem import MultiODProblem\n",
    "from src.solution import MultiODSolution\n",
    "from src.utils import read_instance_data\n",
    "from src.gurobi.gurobi_formulation import formulation\n",
    "from src.gurobi.utils import display_gurobi_result, generate_paths_from_gurobi_result"
   ]
  },
  {
   "cell_type": "code",
   "execution_count": null,
   "metadata": {},
   "outputs": [],
   "source": [
    "num_O = '005'\n",
    "resample_k = 5"
   ]
  },
  {
   "cell_type": "code",
   "execution_count": null,
   "metadata": {
    "id": "BHEDPxBU0H0H"
   },
   "outputs": [],
   "source": [
    "def run_experiment(instance):\n",
    "    report_str = \"\"\n",
    "    locations = read_instance_data(instance)\n",
    "    p = MultiODProblem(locations=locations, ignore_to_dummy_cost=False, ignore_from_dummy_cost=False)\n",
    "    p.convert_distance_matrix_to_int()\n",
    "    start_time = time.time()\n",
    "    X, m = formulation(p, '2D')\n",
    "    m.setParam('TimeLimit', 60*60*2)\n",
    "    m.optimize()\n",
    "    end_time = time.time()\n",
    "    # fig = display_gurobi_result(X, m, p)\n",
    "    # plt.show()\n",
    "    paths = generate_paths_from_gurobi_result(X)\n",
    "    report_str += f\"{paths}\\n\"\n",
    "    report_str += f\"The solution is feasible: {p.is_feasible(paths)}\\n\"\n",
    "    report_str += f\"The solution cost is: {m.objVal}\\n\"\n",
    "    report_str += f\"Execution time: {end_time-start_time} seconds\\n\"\n",
    "    return report_str, m.objVal"
   ]
  },
  {
   "cell_type": "code",
   "execution_count": null,
   "metadata": {},
   "outputs": [],
   "source": [
    "instance_dir = os.path.join('data', 'tsppdlib', 'instances', 'random-uniform')\n",
    "instances = [i for i in os.listdir(instance_dir) if i.endswith('.tsp')]\n",
    "\n",
    "sub_instances = [i for i in instances if '-' + num_O + '-' in i]\n",
    "sub_instances = random.sample(sub_instances, k=resample_k)"
   ]
  },
  {
   "cell_type": "code",
   "execution_count": null,
   "metadata": {
    "id": "vDsr02wX0H0H",
    "outputId": "6009c720-9dff-4f88-bea5-38acea6c14be"
   },
   "outputs": [],
   "source": [
    "selected_files = sub_instances\n",
    "for selected_file in tqdm(selected_files, desc=\"Processing files\", unit=\"file\"):\n",
    "    instance = os.path.join(instance_dir, selected_file)\n",
    "    results = run_experiment(instance)\n",
    "    file_name = selected_file.replace(\".tsp\", \"\")\n",
    "    file_path = f\"../tmp/gurobi/{file_name}.{int(results[1])}.txt\"\n",
    "    with open(file_path, 'w+') as file:\n",
    "        file.write(f\"The result for {selected_file}\\n\")\n",
    "        file.write(f\"{results[0]}\\n\")"
   ]
  },
  {
   "cell_type": "code",
   "execution_count": null,
   "metadata": {
    "id": "j1zeQkSL0H0H"
   },
   "outputs": [],
   "source": []
  }
 ],
 "metadata": {
  "accelerator": "TPU",
  "colab": {
   "provenance": []
  },
  "kernelspec": {
   "display_name": "Python 3 (ipykernel)",
   "language": "python",
   "name": "python3"
  },
  "language_info": {
   "codemirror_mode": {
    "name": "ipython",
    "version": 3
   },
   "file_extension": ".py",
   "mimetype": "text/x-python",
   "name": "python",
   "nbconvert_exporter": "python",
   "pygments_lexer": "ipython3",
   "version": "3.8.17"
  }
 },
 "nbformat": 4,
 "nbformat_minor": 1
}
