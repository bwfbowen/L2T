{
 "cells": [
  {
   "cell_type": "code",
   "execution_count": 1,
   "metadata": {},
   "outputs": [],
   "source": [
    "from src.solution import MultiODPath, MultiODSolution\n",
    "from src.problem import MultiODProblem\n",
    "from src.operators import TwoOptOperator, ExchangeOperator\n",
    "from src.utils import display_result\n",
    "\n",
    "p = MultiODProblem(num_O=8, num_taxi=1, seed=2)\n",
    "paths = [[0, 1, 9, 8, 16, 5, 17, 2, 4, 3, 7, 12, 6, 14, 13, 11, 10, 15, 0]]\n",
    "paths1 = [[0, 1, 8, 9, 16, 5, 17, 2, 4, 3, 7, 12, 6, 14, 13, 11, 10, 15, 0]]  # sub-optimal\n",
    "paths2 = [[0, 1, 9, 8, 16, 5, 17, 3, 2, 7, 4, 12, 6, 14, 13, 11, 10, 15, 0]]  # sub-optimal\n",
    "s = MultiODSolution(paths2, p)"
   ]
  },
  {
   "cell_type": "code",
   "execution_count": 2,
   "metadata": {},
   "outputs": [],
   "source": [
    "o1 = TwoOptOperator()\n",
    "o2 = ExchangeOperator()"
   ]
  },
  {
   "cell_type": "code",
   "execution_count": 9,
   "metadata": {},
   "outputs": [],
   "source": [
    "from itertools import islice"
   ]
  },
  {
   "cell_type": "code",
   "execution_count": 11,
   "metadata": {},
   "outputs": [
    {
     "data": {
      "text/plain": [
       "[8, 16]"
      ]
     },
     "execution_count": 11,
     "metadata": {},
     "output_type": "execute_result"
    }
   ],
   "source": [
    "[*islice(s.paths[0], 3, 5)]"
   ]
  },
  {
   "cell_type": "code",
   "execution_count": 3,
   "metadata": {},
   "outputs": [
    {
     "data": {
      "text/plain": [
       "3.2314261028713"
      ]
     },
     "execution_count": 3,
     "metadata": {},
     "output_type": "execute_result"
    }
   ],
   "source": [
    "p.calc_cost(MultiODSolution(paths, p))"
   ]
  },
  {
   "cell_type": "code",
   "execution_count": 7,
   "metadata": {},
   "outputs": [],
   "source": [
    "# improved_path, min_delta, label = o1(s, 4)\n",
    "improved_path, min_delta, label = o2(s)\n",
    "if improved_path is not None:\n",
    "    print(improved_path)\n",
    "    print(p.is_feasible(s))\n",
    "    print(p.calc_cost(s))"
   ]
  },
  {
   "cell_type": "code",
   "execution_count": 2,
   "metadata": {},
   "outputs": [
    {
     "data": {
      "text/plain": [
       "{1: Node(node_id=1, OD_type=None, seq_id=1, block_id=None, in_block_seq_id=None, block_OD=None),\n",
       " 2: Node(node_id=9, OD_type=0, seq_id=2, block_id=0, in_block_seq_id=0, block_OD=0),\n",
       " 3: Node(node_id=8, OD_type=0, seq_id=3, block_id=0, in_block_seq_id=1, block_OD=0),\n",
       " 4: Node(node_id=16, OD_type=1, seq_id=4, block_id=1, in_block_seq_id=0, block_OD=1),\n",
       " 5: Node(node_id=5, OD_type=0, seq_id=5, block_id=2, in_block_seq_id=0, block_OD=0),\n",
       " 6: Node(node_id=17, OD_type=1, seq_id=6, block_id=3, in_block_seq_id=0, block_OD=1),\n",
       " 7: Node(node_id=2, OD_type=0, seq_id=7, block_id=4, in_block_seq_id=0, block_OD=0),\n",
       " 8: Node(node_id=4, OD_type=0, seq_id=8, block_id=4, in_block_seq_id=1, block_OD=0),\n",
       " 9: Node(node_id=3, OD_type=0, seq_id=9, block_id=4, in_block_seq_id=2, block_OD=0),\n",
       " 10: Node(node_id=7, OD_type=0, seq_id=10, block_id=4, in_block_seq_id=3, block_OD=0),\n",
       " 11: Node(node_id=12, OD_type=1, seq_id=11, block_id=5, in_block_seq_id=0, block_OD=1),\n",
       " 12: Node(node_id=6, OD_type=0, seq_id=12, block_id=6, in_block_seq_id=0, block_OD=0),\n",
       " 13: Node(node_id=14, OD_type=1, seq_id=13, block_id=7, in_block_seq_id=0, block_OD=1),\n",
       " 14: Node(node_id=13, OD_type=1, seq_id=14, block_id=7, in_block_seq_id=1, block_OD=1),\n",
       " 15: Node(node_id=11, OD_type=1, seq_id=15, block_id=7, in_block_seq_id=2, block_OD=1),\n",
       " 16: Node(node_id=10, OD_type=1, seq_id=16, block_id=7, in_block_seq_id=3, block_OD=1),\n",
       " 17: Node(node_id=15, OD_type=1, seq_id=17, block_id=7, in_block_seq_id=4, block_OD=1)}"
      ]
     },
     "execution_count": 2,
     "metadata": {},
     "output_type": "execute_result"
    }
   ],
   "source": [
    "s.paths[0].seq_dict"
   ]
  },
  {
   "cell_type": "code",
   "execution_count": 3,
   "metadata": {},
   "outputs": [
    {
     "data": {
      "text/plain": [
       "{1: Node(node_id=1, OD_type=None, seq_id=1, block_id=None, in_block_seq_id=None, block_OD=None),\n",
       " 2: Node(node_id=16, OD_type=1, seq_id=2, block_id=8, in_block_seq_id=0, block_OD=1),\n",
       " 3: Node(node_id=8, OD_type=0, seq_id=3, block_id=0, in_block_seq_id=0, block_OD=0),\n",
       " 4: Node(node_id=9, OD_type=0, seq_id=4, block_id=0, in_block_seq_id=1, block_OD=0),\n",
       " 5: Node(node_id=5, OD_type=0, seq_id=5, block_id=0, in_block_seq_id=2, block_OD=0),\n",
       " 6: Node(node_id=17, OD_type=1, seq_id=6, block_id=3, in_block_seq_id=0, block_OD=1),\n",
       " 7: Node(node_id=2, OD_type=0, seq_id=7, block_id=4, in_block_seq_id=0, block_OD=0),\n",
       " 8: Node(node_id=4, OD_type=0, seq_id=8, block_id=4, in_block_seq_id=1, block_OD=0),\n",
       " 9: Node(node_id=3, OD_type=0, seq_id=9, block_id=4, in_block_seq_id=2, block_OD=0),\n",
       " 10: Node(node_id=7, OD_type=0, seq_id=10, block_id=4, in_block_seq_id=3, block_OD=0),\n",
       " 11: Node(node_id=12, OD_type=1, seq_id=11, block_id=5, in_block_seq_id=0, block_OD=1),\n",
       " 12: Node(node_id=6, OD_type=0, seq_id=12, block_id=6, in_block_seq_id=0, block_OD=0),\n",
       " 13: Node(node_id=14, OD_type=1, seq_id=13, block_id=7, in_block_seq_id=0, block_OD=1),\n",
       " 14: Node(node_id=13, OD_type=1, seq_id=14, block_id=7, in_block_seq_id=1, block_OD=1),\n",
       " 15: Node(node_id=11, OD_type=1, seq_id=15, block_id=7, in_block_seq_id=2, block_OD=1),\n",
       " 16: Node(node_id=10, OD_type=1, seq_id=16, block_id=7, in_block_seq_id=3, block_OD=1),\n",
       " 17: Node(node_id=15, OD_type=1, seq_id=17, block_id=7, in_block_seq_id=4, block_OD=1)}"
      ]
     },
     "execution_count": 3,
     "metadata": {},
     "output_type": "execute_result"
    }
   ],
   "source": [
    "s.exchange_nodes_within_path(16, 9, 0)\n",
    "s.paths[0].seq_dict"
   ]
  },
  {
   "cell_type": "code",
   "execution_count": 4,
   "metadata": {},
   "outputs": [
    {
     "name": "stdout",
     "output_type": "stream",
     "text": [
      "[0, 4, 6]\n",
      "[3, 5, 7, 8]\n"
     ]
    }
   ],
   "source": [
    "print(s.paths[0].O_blocks)\n",
    "print(s.paths[0].D_blocks)"
   ]
  },
  {
   "cell_type": "code",
   "execution_count": 5,
   "metadata": {},
   "outputs": [
    {
     "data": {
      "text/plain": [
       "{1: Node(node_id=1, OD_type=None, seq_id=1, block_id=None, in_block_seq_id=None, block_OD=None),\n",
       " 2: Node(node_id=16, OD_type=1, seq_id=2, block_id=8, in_block_seq_id=0, block_OD=1),\n",
       " 3: Node(node_id=17, OD_type=1, seq_id=3, block_id=8, in_block_seq_id=1, block_OD=1),\n",
       " 4: Node(node_id=9, OD_type=0, seq_id=4, block_id=0, in_block_seq_id=0, block_OD=0),\n",
       " 5: Node(node_id=5, OD_type=0, seq_id=5, block_id=0, in_block_seq_id=1, block_OD=0),\n",
       " 6: Node(node_id=8, OD_type=0, seq_id=6, block_id=0, in_block_seq_id=2, block_OD=0),\n",
       " 7: Node(node_id=2, OD_type=0, seq_id=7, block_id=0, in_block_seq_id=3, block_OD=0),\n",
       " 8: Node(node_id=4, OD_type=0, seq_id=8, block_id=0, in_block_seq_id=4, block_OD=0),\n",
       " 9: Node(node_id=3, OD_type=0, seq_id=9, block_id=0, in_block_seq_id=5, block_OD=0),\n",
       " 10: Node(node_id=7, OD_type=0, seq_id=10, block_id=0, in_block_seq_id=6, block_OD=0),\n",
       " 11: Node(node_id=12, OD_type=1, seq_id=11, block_id=5, in_block_seq_id=0, block_OD=1),\n",
       " 12: Node(node_id=6, OD_type=0, seq_id=12, block_id=6, in_block_seq_id=0, block_OD=0),\n",
       " 13: Node(node_id=14, OD_type=1, seq_id=13, block_id=7, in_block_seq_id=0, block_OD=1),\n",
       " 14: Node(node_id=13, OD_type=1, seq_id=14, block_id=7, in_block_seq_id=1, block_OD=1),\n",
       " 15: Node(node_id=11, OD_type=1, seq_id=15, block_id=7, in_block_seq_id=2, block_OD=1),\n",
       " 16: Node(node_id=10, OD_type=1, seq_id=16, block_id=7, in_block_seq_id=3, block_OD=1),\n",
       " 17: Node(node_id=15, OD_type=1, seq_id=17, block_id=7, in_block_seq_id=4, block_OD=1)}"
      ]
     },
     "execution_count": 5,
     "metadata": {},
     "output_type": "execute_result"
    }
   ],
   "source": [
    "s.exchange_nodes_within_path(8, 17, 0)\n",
    "s.paths[0].seq_dict"
   ]
  },
  {
   "cell_type": "code",
   "execution_count": 6,
   "metadata": {},
   "outputs": [
    {
     "data": {
      "text/plain": [
       "{1: Node(node_id=1, OD_type=None, seq_id=1, block_id=None, in_block_seq_id=None, block_OD=None),\n",
       " 2: Node(node_id=17, OD_type=1, seq_id=2, block_id=8, in_block_seq_id=0, block_OD=1),\n",
       " 3: Node(node_id=16, OD_type=1, seq_id=3, block_id=8, in_block_seq_id=1, block_OD=1),\n",
       " 4: Node(node_id=9, OD_type=0, seq_id=4, block_id=0, in_block_seq_id=0, block_OD=0),\n",
       " 5: Node(node_id=5, OD_type=0, seq_id=5, block_id=0, in_block_seq_id=1, block_OD=0),\n",
       " 6: Node(node_id=8, OD_type=0, seq_id=6, block_id=0, in_block_seq_id=2, block_OD=0),\n",
       " 7: Node(node_id=2, OD_type=0, seq_id=7, block_id=0, in_block_seq_id=3, block_OD=0),\n",
       " 8: Node(node_id=4, OD_type=0, seq_id=8, block_id=0, in_block_seq_id=4, block_OD=0),\n",
       " 9: Node(node_id=3, OD_type=0, seq_id=9, block_id=0, in_block_seq_id=5, block_OD=0),\n",
       " 10: Node(node_id=7, OD_type=0, seq_id=10, block_id=0, in_block_seq_id=6, block_OD=0),\n",
       " 11: Node(node_id=12, OD_type=1, seq_id=11, block_id=5, in_block_seq_id=0, block_OD=1),\n",
       " 12: Node(node_id=6, OD_type=0, seq_id=12, block_id=6, in_block_seq_id=0, block_OD=0),\n",
       " 13: Node(node_id=14, OD_type=1, seq_id=13, block_id=7, in_block_seq_id=0, block_OD=1),\n",
       " 14: Node(node_id=13, OD_type=1, seq_id=14, block_id=7, in_block_seq_id=1, block_OD=1),\n",
       " 15: Node(node_id=11, OD_type=1, seq_id=15, block_id=7, in_block_seq_id=2, block_OD=1),\n",
       " 16: Node(node_id=10, OD_type=1, seq_id=16, block_id=7, in_block_seq_id=3, block_OD=1),\n",
       " 17: Node(node_id=15, OD_type=1, seq_id=17, block_id=7, in_block_seq_id=4, block_OD=1)}"
      ]
     },
     "execution_count": 6,
     "metadata": {},
     "output_type": "execute_result"
    }
   ],
   "source": [
    "s.exchange_nodes_within_path(17, 16, 0)\n",
    "s.paths[0].seq_dict"
   ]
  },
  {
   "cell_type": "code",
   "execution_count": 7,
   "metadata": {},
   "outputs": [
    {
     "name": "stdout",
     "output_type": "stream",
     "text": [
      "[0, 6]\n",
      "[5, 7, 8]\n"
     ]
    }
   ],
   "source": [
    "print(s.paths[0].O_blocks)\n",
    "print(s.paths[0].D_blocks)"
   ]
  },
  {
   "cell_type": "code",
   "execution_count": 8,
   "metadata": {},
   "outputs": [
    {
     "data": {
      "text/plain": [
       "{1: Node(node_id=1, OD_type=None, seq_id=1, block_id=None, in_block_seq_id=None, block_OD=None),\n",
       " 2: Node(node_id=12, OD_type=1, seq_id=2, block_id=8, in_block_seq_id=0, block_OD=1),\n",
       " 3: Node(node_id=16, OD_type=1, seq_id=3, block_id=8, in_block_seq_id=1, block_OD=1),\n",
       " 4: Node(node_id=9, OD_type=0, seq_id=4, block_id=0, in_block_seq_id=0, block_OD=0),\n",
       " 5: Node(node_id=5, OD_type=0, seq_id=5, block_id=0, in_block_seq_id=1, block_OD=0),\n",
       " 6: Node(node_id=8, OD_type=0, seq_id=6, block_id=0, in_block_seq_id=2, block_OD=0),\n",
       " 7: Node(node_id=2, OD_type=0, seq_id=7, block_id=0, in_block_seq_id=3, block_OD=0),\n",
       " 8: Node(node_id=4, OD_type=0, seq_id=8, block_id=0, in_block_seq_id=4, block_OD=0),\n",
       " 9: Node(node_id=3, OD_type=0, seq_id=9, block_id=0, in_block_seq_id=5, block_OD=0),\n",
       " 10: Node(node_id=7, OD_type=0, seq_id=10, block_id=0, in_block_seq_id=6, block_OD=0),\n",
       " 11: Node(node_id=17, OD_type=1, seq_id=11, block_id=5, in_block_seq_id=0, block_OD=1),\n",
       " 12: Node(node_id=6, OD_type=0, seq_id=12, block_id=6, in_block_seq_id=0, block_OD=0),\n",
       " 13: Node(node_id=14, OD_type=1, seq_id=13, block_id=7, in_block_seq_id=0, block_OD=1),\n",
       " 14: Node(node_id=13, OD_type=1, seq_id=14, block_id=7, in_block_seq_id=1, block_OD=1),\n",
       " 15: Node(node_id=11, OD_type=1, seq_id=15, block_id=7, in_block_seq_id=2, block_OD=1),\n",
       " 16: Node(node_id=10, OD_type=1, seq_id=16, block_id=7, in_block_seq_id=3, block_OD=1),\n",
       " 17: Node(node_id=15, OD_type=1, seq_id=17, block_id=7, in_block_seq_id=4, block_OD=1)}"
      ]
     },
     "execution_count": 8,
     "metadata": {},
     "output_type": "execute_result"
    }
   ],
   "source": [
    "s.exchange_nodes_within_path(17, 12, 0)\n",
    "s.paths[0].seq_dict"
   ]
  },
  {
   "cell_type": "code",
   "execution_count": 9,
   "metadata": {},
   "outputs": [
    {
     "name": "stdout",
     "output_type": "stream",
     "text": [
      "[0, 6]\n",
      "[5, 7, 8]\n"
     ]
    }
   ],
   "source": [
    "print(s.paths[0].O_blocks)\n",
    "print(s.paths[0].D_blocks)"
   ]
  },
  {
   "cell_type": "code",
   "execution_count": 10,
   "metadata": {},
   "outputs": [
    {
     "data": {
      "text/plain": [
       "{1: Node(node_id=1, OD_type=None, seq_id=1, block_id=None, in_block_seq_id=None, block_OD=None),\n",
       " 2: Node(node_id=12, OD_type=1, seq_id=2, block_id=8, in_block_seq_id=0, block_OD=1),\n",
       " 3: Node(node_id=16, OD_type=1, seq_id=3, block_id=8, in_block_seq_id=1, block_OD=1),\n",
       " 4: Node(node_id=9, OD_type=0, seq_id=4, block_id=0, in_block_seq_id=0, block_OD=0),\n",
       " 5: Node(node_id=5, OD_type=0, seq_id=5, block_id=0, in_block_seq_id=1, block_OD=0),\n",
       " 6: Node(node_id=8, OD_type=0, seq_id=6, block_id=0, in_block_seq_id=2, block_OD=0),\n",
       " 7: Node(node_id=2, OD_type=0, seq_id=7, block_id=0, in_block_seq_id=3, block_OD=0),\n",
       " 8: Node(node_id=4, OD_type=0, seq_id=8, block_id=0, in_block_seq_id=4, block_OD=0),\n",
       " 9: Node(node_id=3, OD_type=0, seq_id=9, block_id=0, in_block_seq_id=5, block_OD=0),\n",
       " 10: Node(node_id=7, OD_type=0, seq_id=10, block_id=0, in_block_seq_id=6, block_OD=0),\n",
       " 11: Node(node_id=6, OD_type=0, seq_id=11, block_id=0, in_block_seq_id=7, block_OD=0),\n",
       " 12: Node(node_id=17, OD_type=1, seq_id=12, block_id=7, in_block_seq_id=0, block_OD=1),\n",
       " 13: Node(node_id=14, OD_type=1, seq_id=13, block_id=7, in_block_seq_id=1, block_OD=1),\n",
       " 14: Node(node_id=13, OD_type=1, seq_id=14, block_id=7, in_block_seq_id=2, block_OD=1),\n",
       " 15: Node(node_id=11, OD_type=1, seq_id=15, block_id=7, in_block_seq_id=3, block_OD=1),\n",
       " 16: Node(node_id=10, OD_type=1, seq_id=16, block_id=7, in_block_seq_id=4, block_OD=1),\n",
       " 17: Node(node_id=15, OD_type=1, seq_id=17, block_id=7, in_block_seq_id=5, block_OD=1)}"
      ]
     },
     "execution_count": 10,
     "metadata": {},
     "output_type": "execute_result"
    }
   ],
   "source": [
    "s.exchange_nodes_within_path(17, 6, 0)\n",
    "s.paths[0].seq_dict"
   ]
  },
  {
   "cell_type": "code",
   "execution_count": 11,
   "metadata": {},
   "outputs": [
    {
     "name": "stdout",
     "output_type": "stream",
     "text": [
      "[0]\n",
      "[7, 8]\n"
     ]
    }
   ],
   "source": [
    "print(s.paths[0].O_blocks)\n",
    "print(s.paths[0].D_blocks)"
   ]
  },
  {
   "cell_type": "code",
   "execution_count": 12,
   "metadata": {},
   "outputs": [
    {
     "data": {
      "text/plain": [
       "Node(node_id=6, OD_type=0, seq_id=11, block_id=0, in_block_seq_id=7, block_OD=0)"
      ]
     },
     "execution_count": 12,
     "metadata": {},
     "output_type": "execute_result"
    }
   ],
   "source": [
    "s.paths[0].seq_dict[12].prev_node"
   ]
  },
  {
   "cell_type": "code",
   "execution_count": 13,
   "metadata": {},
   "outputs": [
    {
     "data": {
      "text/plain": [
       "Node(node_id=14, OD_type=1, seq_id=13, block_id=7, in_block_seq_id=1, block_OD=1)"
      ]
     },
     "execution_count": 13,
     "metadata": {},
     "output_type": "execute_result"
    }
   ],
   "source": [
    "s.paths[0].seq_dict[12].next_node"
   ]
  },
  {
   "cell_type": "code",
   "execution_count": 14,
   "metadata": {},
   "outputs": [],
   "source": [
    "# L2I operators, state"
   ]
  },
  {
   "cell_type": "code",
   "execution_count": 15,
   "metadata": {},
   "outputs": [],
   "source": [
    "# operators:\n",
    "# in-block optimization: 2-opt\n",
    "# O up, D down\n",
    "# O down, D up "
   ]
  }
 ],
 "metadata": {
  "kernelspec": {
   "display_name": "rlor38",
   "language": "python",
   "name": "python3"
  },
  "language_info": {
   "codemirror_mode": {
    "name": "ipython",
    "version": 3
   },
   "file_extension": ".py",
   "mimetype": "text/x-python",
   "name": "python",
   "nbconvert_exporter": "python",
   "pygments_lexer": "ipython3",
   "version": "3.8.16"
  },
  "orig_nbformat": 4
 },
 "nbformat": 4,
 "nbformat_minor": 2
}
