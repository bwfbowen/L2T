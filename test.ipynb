{
 "cells": [
  {
   "cell_type": "code",
   "execution_count": null,
   "metadata": {},
   "outputs": [],
   "source": [
    "import os \n",
    "from src.problem import PDP\n",
    "from src.utils import read_pdptw_instance_data\n",
    "from src.ortools.ortools_formulation import ortools_pdp_formulation\n",
    "from src.ortools.utils import display_pdp_ortools_result"
   ]
  },
  {
   "cell_type": "code",
   "execution_count": null,
   "metadata": {},
   "outputs": [],
   "source": [
    "instance_dir = os.path.join('data', 'tsppdlib', 'instances', 'Ropke')\n",
    "# instance_path = 'AA45.3.pdptw'"
   ]
  },
  {
   "cell_type": "code",
   "execution_count": null,
   "metadata": {},
   "outputs": [],
   "source": [
    "def run_and_record(\n",
    "        num_O=None,\n",
    "        num_taxi=None,\n",
    "        seed=None,\n",
    "        instance_name=None, \n",
    "        instance_dir=None, \n",
    "        save_path=None,\n",
    "        capacity_slack = .2\n",
    "    ):\n",
    "    if instance_name is not None and instance_dir is not None:\n",
    "        instance_path = os.path.join(instance_dir, instance_name)\n",
    "        save_path = save_path if save_path is not None else os.path.join('..','tmp', 'ortools')\n",
    "        locations, capacities, num_vehicles, capacity, distance_type = read_pdptw_instance_data(instance_path, capacity_slack=capacity_slack)\n",
    "        p = PDP(locations=locations, \n",
    "                capacities=capacities,\n",
    "                num_taxi=num_vehicles, \n",
    "                capacity=capacity, \n",
    "                capacity_slack=capacity_slack, \n",
    "                distance_type=distance_type,\n",
    "                ignore_from_dummy_cost=True, \n",
    "                ignore_to_dummy_cost=True)\n",
    "    else:\n",
    "        p = PDP(num_O=num_O, num_taxi=num_taxi, seed=seed, capacity_slack=capacity_slack, ignore_from_dummy_cost=True, ignore_to_dummy_cost=True)\n",
    "    p, manager, routing, solution = ortools_pdp_formulation(p)\n",
    "    result_string, total_distance, paths = display_pdp_ortools_result(p, manager, routing, solution)\n",
    "    file_path = os.path.join(save_path, f'{instance_name}.{total_distance}.txt')\n",
    "    with open(file_path, 'w+') as file:\n",
    "        file.write(f\"{result_string}\\n\")"
   ]
  },
  {
   "cell_type": "code",
   "execution_count": null,
   "metadata": {},
   "outputs": [],
   "source": [
    "instances = os.listdir(instance_dir)\n",
    "instances = [i for i in instances if int(i[2:4])<=50]\n",
    "for instance_name in instances:\n",
    "    run_and_record(instance_name=instance_name, instance_dir=instance_dir)"
   ]
  }
 ],
 "metadata": {
  "kernelspec": {
   "display_name": "rlor38",
   "language": "python",
   "name": "python3"
  },
  "language_info": {
   "codemirror_mode": {
    "name": "ipython",
    "version": 3
   },
   "file_extension": ".py",
   "mimetype": "text/x-python",
   "name": "python",
   "nbconvert_exporter": "python",
   "pygments_lexer": "ipython3",
   "version": "3.8.16"
  },
  "orig_nbformat": 4
 },
 "nbformat": 4,
 "nbformat_minor": 2
}
