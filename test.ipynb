{
 "cells": [
  {
   "cell_type": "code",
   "execution_count": 1,
   "metadata": {},
   "outputs": [],
   "source": [
    "from src.solution import MultiODPath, MultiODSolution\n",
    "from src.problem import MultiODProblem\n",
    "\n",
    "p = MultiODProblem(num_O=8, num_taxi=1, seed=2)\n",
    "paths = [[0, 1, 9, 8, 16, 5, 17, 2, 4, 3, 7, 12, 6, 14, 13, 11, 10, 15, 0]]\n",
    "s = MultiODSolution(paths, p)"
   ]
  },
  {
   "cell_type": "code",
   "execution_count": 2,
   "metadata": {},
   "outputs": [
    {
     "data": {
      "text/plain": [
       "{1: Node(node_id=1, OD_type=None, seq_id=1, block_id=None, in_block_seq_id=None, block_OD=None),\n",
       " 2: Node(node_id=9, OD_type=0, seq_id=2, block_id=0, in_block_seq_id=0, block_OD=0),\n",
       " 3: Node(node_id=8, OD_type=0, seq_id=3, block_id=0, in_block_seq_id=1, block_OD=0),\n",
       " 4: Node(node_id=16, OD_type=1, seq_id=4, block_id=1, in_block_seq_id=0, block_OD=1),\n",
       " 5: Node(node_id=5, OD_type=0, seq_id=5, block_id=2, in_block_seq_id=0, block_OD=0),\n",
       " 6: Node(node_id=17, OD_type=1, seq_id=6, block_id=3, in_block_seq_id=0, block_OD=1),\n",
       " 7: Node(node_id=2, OD_type=0, seq_id=7, block_id=4, in_block_seq_id=0, block_OD=0),\n",
       " 8: Node(node_id=4, OD_type=0, seq_id=8, block_id=4, in_block_seq_id=1, block_OD=0),\n",
       " 9: Node(node_id=3, OD_type=0, seq_id=9, block_id=4, in_block_seq_id=2, block_OD=0),\n",
       " 10: Node(node_id=7, OD_type=0, seq_id=10, block_id=4, in_block_seq_id=3, block_OD=0),\n",
       " 11: Node(node_id=12, OD_type=1, seq_id=11, block_id=5, in_block_seq_id=0, block_OD=1),\n",
       " 12: Node(node_id=6, OD_type=0, seq_id=12, block_id=6, in_block_seq_id=0, block_OD=0),\n",
       " 13: Node(node_id=14, OD_type=1, seq_id=13, block_id=7, in_block_seq_id=0, block_OD=1),\n",
       " 14: Node(node_id=13, OD_type=1, seq_id=14, block_id=7, in_block_seq_id=1, block_OD=1),\n",
       " 15: Node(node_id=11, OD_type=1, seq_id=15, block_id=7, in_block_seq_id=2, block_OD=1),\n",
       " 16: Node(node_id=10, OD_type=1, seq_id=16, block_id=7, in_block_seq_id=3, block_OD=1),\n",
       " 17: Node(node_id=15, OD_type=1, seq_id=17, block_id=7, in_block_seq_id=4, block_OD=1)}"
      ]
     },
     "execution_count": 2,
     "metadata": {},
     "output_type": "execute_result"
    }
   ],
   "source": [
    "s.paths[0].seq_dict"
   ]
  },
  {
   "cell_type": "code",
   "execution_count": 3,
   "metadata": {},
   "outputs": [
    {
     "data": {
      "text/plain": [
       "{1: Node(node_id=1, OD_type=None, seq_id=1, block_id=None, in_block_seq_id=None, block_OD=None),\n",
       " 2: Node(node_id=16, OD_type=1, seq_id=2, block_id=8, in_block_seq_id=0, block_OD=1),\n",
       " 3: Node(node_id=8, OD_type=0, seq_id=3, block_id=0, in_block_seq_id=0, block_OD=0),\n",
       " 4: Node(node_id=9, OD_type=0, seq_id=4, block_id=0, in_block_seq_id=1, block_OD=0),\n",
       " 5: Node(node_id=5, OD_type=0, seq_id=5, block_id=0, in_block_seq_id=2, block_OD=0),\n",
       " 6: Node(node_id=17, OD_type=1, seq_id=6, block_id=3, in_block_seq_id=0, block_OD=1),\n",
       " 7: Node(node_id=2, OD_type=0, seq_id=7, block_id=4, in_block_seq_id=0, block_OD=0),\n",
       " 8: Node(node_id=4, OD_type=0, seq_id=8, block_id=4, in_block_seq_id=1, block_OD=0),\n",
       " 9: Node(node_id=3, OD_type=0, seq_id=9, block_id=4, in_block_seq_id=2, block_OD=0),\n",
       " 10: Node(node_id=7, OD_type=0, seq_id=10, block_id=4, in_block_seq_id=3, block_OD=0),\n",
       " 11: Node(node_id=12, OD_type=1, seq_id=11, block_id=5, in_block_seq_id=0, block_OD=1),\n",
       " 12: Node(node_id=6, OD_type=0, seq_id=12, block_id=6, in_block_seq_id=0, block_OD=0),\n",
       " 13: Node(node_id=14, OD_type=1, seq_id=13, block_id=7, in_block_seq_id=0, block_OD=1),\n",
       " 14: Node(node_id=13, OD_type=1, seq_id=14, block_id=7, in_block_seq_id=1, block_OD=1),\n",
       " 15: Node(node_id=11, OD_type=1, seq_id=15, block_id=7, in_block_seq_id=2, block_OD=1),\n",
       " 16: Node(node_id=10, OD_type=1, seq_id=16, block_id=7, in_block_seq_id=3, block_OD=1),\n",
       " 17: Node(node_id=15, OD_type=1, seq_id=17, block_id=7, in_block_seq_id=4, block_OD=1)}"
      ]
     },
     "execution_count": 3,
     "metadata": {},
     "output_type": "execute_result"
    }
   ],
   "source": [
    "s.exchange_nodes_within_path(16, 9, 0)\n",
    "s.paths[0].seq_dict"
   ]
  },
  {
   "cell_type": "code",
   "execution_count": 4,
   "metadata": {},
   "outputs": [
    {
     "data": {
      "text/plain": [
       "{1: Node(node_id=1, OD_type=None, seq_id=1, block_id=None, in_block_seq_id=None, block_OD=None),\n",
       " 2: Node(node_id=16, OD_type=1, seq_id=2, block_id=8, in_block_seq_id=0, block_OD=1),\n",
       " 3: Node(node_id=17, OD_type=1, seq_id=3, block_id=8, in_block_seq_id=1, block_OD=1),\n",
       " 4: Node(node_id=9, OD_type=0, seq_id=4, block_id=0, in_block_seq_id=0, block_OD=0),\n",
       " 5: Node(node_id=5, OD_type=0, seq_id=5, block_id=0, in_block_seq_id=1, block_OD=0),\n",
       " 6: Node(node_id=8, OD_type=0, seq_id=6, block_id=0, in_block_seq_id=2, block_OD=0),\n",
       " 7: Node(node_id=2, OD_type=0, seq_id=7, block_id=0, in_block_seq_id=3, block_OD=0),\n",
       " 8: Node(node_id=4, OD_type=0, seq_id=8, block_id=0, in_block_seq_id=4, block_OD=0),\n",
       " 9: Node(node_id=3, OD_type=0, seq_id=9, block_id=0, in_block_seq_id=5, block_OD=0),\n",
       " 10: Node(node_id=7, OD_type=0, seq_id=10, block_id=0, in_block_seq_id=6, block_OD=0),\n",
       " 11: Node(node_id=12, OD_type=1, seq_id=11, block_id=5, in_block_seq_id=0, block_OD=1),\n",
       " 12: Node(node_id=6, OD_type=0, seq_id=12, block_id=6, in_block_seq_id=0, block_OD=0),\n",
       " 13: Node(node_id=14, OD_type=1, seq_id=13, block_id=7, in_block_seq_id=0, block_OD=1),\n",
       " 14: Node(node_id=13, OD_type=1, seq_id=14, block_id=7, in_block_seq_id=1, block_OD=1),\n",
       " 15: Node(node_id=11, OD_type=1, seq_id=15, block_id=7, in_block_seq_id=2, block_OD=1),\n",
       " 16: Node(node_id=10, OD_type=1, seq_id=16, block_id=7, in_block_seq_id=3, block_OD=1),\n",
       " 17: Node(node_id=15, OD_type=1, seq_id=17, block_id=7, in_block_seq_id=4, block_OD=1)}"
      ]
     },
     "execution_count": 4,
     "metadata": {},
     "output_type": "execute_result"
    }
   ],
   "source": [
    "s.exchange_nodes_within_path(8, 17, 0)\n",
    "s.paths[0].seq_dict"
   ]
  }
 ],
 "metadata": {
  "kernelspec": {
   "display_name": "rlor38",
   "language": "python",
   "name": "python3"
  },
  "language_info": {
   "codemirror_mode": {
    "name": "ipython",
    "version": 3
   },
   "file_extension": ".py",
   "mimetype": "text/x-python",
   "name": "python",
   "nbconvert_exporter": "python",
   "pygments_lexer": "ipython3",
   "version": "3.8.16"
  },
  "orig_nbformat": 4
 },
 "nbformat": 4,
 "nbformat_minor": 2
}
