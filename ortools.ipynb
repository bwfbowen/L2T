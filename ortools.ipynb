{
 "cells": [
  {
   "cell_type": "code",
   "execution_count": 1,
   "metadata": {},
   "outputs": [
    {
     "name": "stderr",
     "output_type": "stream",
     "text": [
      "/opt/conda/envs/rlor38/lib/python3.8/site-packages/tqdm/auto.py:21: TqdmWarning: IProgress not found. Please update jupyter and ipywidgets. See https://ipywidgets.readthedocs.io/en/stable/user_install.html\n",
      "  from .autonotebook import tqdm as notebook_tqdm\n"
     ]
    }
   ],
   "source": [
    "import os\n",
    "import time\n",
    "import re\n",
    "from tqdm import tqdm\n",
    "\n",
    "from src.problem import MultiODProblem\n",
    "from src.solution import MultiODSolution\n",
    "from src.utils import read_instance_data\n",
    "from src.gurobi.gurobi_formulation import formulation\n",
    "from src.gurobi.utils import display_gurobi_result\n",
    "from src.ortools.ortools_formulation import ortools_formulation, ortools_pd_formulation_2D\n",
    "from src.ortools.utils import display_ortools_result, generate_paths_from_ortools_result, display_pd_ortools_result"
   ]
  },
  {
   "cell_type": "code",
   "execution_count": 4,
   "metadata": {},
   "outputs": [],
   "source": [
    "instance_dir = os.path.join('data', 'tsppdlib', 'instances', 'random-uniform')"
   ]
  },
  {
   "cell_type": "code",
   "execution_count": 5,
   "metadata": {},
   "outputs": [],
   "source": [
    "instances = [i for i in os.listdir(instance_dir) if i.endswith('.tsp')]"
   ]
  },
  {
   "cell_type": "code",
   "execution_count": 6,
   "metadata": {},
   "outputs": [],
   "source": [
    "# num_O = [\"010\", \"020\", \"050\"]\n",
    "num_O = [\"020\"]"
   ]
  },
  {
   "cell_type": "code",
   "execution_count": 7,
   "metadata": {},
   "outputs": [],
   "source": [
    "def run_experiment(instance):\n",
    "    report_str = \"\"\n",
    "    locations = read_instance_data(instance)\n",
    "    p = MultiODProblem(locations=locations, ignore_to_dummy_cost=False)\n",
    "    start_time = time.time()\n",
    "    solution = ortools_pd_formulation_2D(p)\n",
    "    end_time = time.time()\n",
    "    results = display_pd_ortools_result(p, solution)\n",
    "    report_str += f\"{results[0]}\\n\"\n",
    "    report_str += f\"Time taken: {end_time-start_time} seconds\"\n",
    "    return report_str, results[1]"
   ]
  },
  {
   "cell_type": "code",
   "execution_count": 8,
   "metadata": {},
   "outputs": [
    {
     "name": "stderr",
     "output_type": "stream",
     "text": [
      "Processing files: 100%|██████████| 25/25 [00:05<00:00,  4.20file/s]\n"
     ]
    }
   ],
   "source": [
    "for num in num_O:\n",
    "    pattern = re.compile(\".*-\" + num + \"-.*\")\n",
    "    selected_files = [file_name for file_name in instances if re.match(pattern, file_name)]\n",
    "    for selected_file in tqdm(selected_files, desc=\"Processing files\", unit=\"file\"):\n",
    "        instance = os.path.join(instance_dir, selected_file)\n",
    "        results = run_experiment(instance)\n",
    "        file_name = selected_file.replace(\".tsp\", \"\")\n",
    "        file_path = f\"../tmp/ortools/{file_name}.{results[1]}.txt\"\n",
    "        with open(file_path, 'w+') as file:\n",
    "            file.write(f\"The result for {selected_file}\\n\")\n",
    "            file.write(f\"{results[0]}\\n\")"
   ]
  }
 ],
 "metadata": {
  "kernelspec": {
   "display_name": "Python 3 (ipykernel)",
   "language": "python",
   "name": "python3"
  },
  "language_info": {
   "codemirror_mode": {
    "name": "ipython",
    "version": 3
   },
   "file_extension": ".py",
   "mimetype": "text/x-python",
   "name": "python",
   "nbconvert_exporter": "python",
   "pygments_lexer": "ipython3",
   "version": "3.8.17"
  }
 },
 "nbformat": 4,
 "nbformat_minor": 2
}
