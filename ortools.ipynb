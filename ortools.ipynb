{
 "cells": [
  {
   "cell_type": "code",
   "execution_count": null,
   "metadata": {},
   "outputs": [],
   "source": [
    "import os\n",
    "import time\n",
    "import re\n",
    "import random\n",
    "from tqdm import tqdm\n",
    "\n",
    "from src.problem import MultiODProblem\n",
    "from src.solution import MultiODSolution\n",
    "from src.utils import read_instance_data\n",
    "from src.gurobi.gurobi_formulation import formulation\n",
    "from src.gurobi.utils import display_gurobi_result\n",
    "from src.ortools.ortools_formulation import ortools_formulation, ortools_pd_formulation_2D\n",
    "from src.ortools.utils import display_ortools_result, generate_paths_from_ortools_result, display_pd_ortools_result"
   ]
  },
  {
   "cell_type": "code",
   "execution_count": null,
   "metadata": {},
   "outputs": [],
   "source": [
    "num_O = '1000'\n",
    "resample_k = 1"
   ]
  },
  {
   "cell_type": "code",
   "execution_count": null,
   "metadata": {},
   "outputs": [],
   "source": [
    "def run_experiment(instance):\n",
    "    report_str = \"\"\n",
    "    locations = read_instance_data(instance)\n",
    "    p = MultiODProblem(locations=locations, ignore_to_dummy_cost=False, ignore_from_dummy_cost=False)\n",
    "    start_time = time.time()\n",
    "    solution = ortools_pd_formulation_2D(p)\n",
    "    end_time = time.time()\n",
    "    results = display_pd_ortools_result(p, solution)\n",
    "    report_str += f\"{results[0]}\\n\"\n",
    "    report_str += f\"Time taken: {end_time-start_time} seconds\"\n",
    "    return report_str, results[1]"
   ]
  },
  {
   "cell_type": "code",
   "execution_count": null,
   "metadata": {},
   "outputs": [],
   "source": [
    "instance_dir = os.path.join('data', 'tsppdlib', 'instances', 'random-uniform')\n",
    "instances = [i for i in os.listdir(instance_dir) if i.endswith('.tsp')]\n",
    "\n",
    "sub_instances = [i for i in instances if '-' + num_O + '-' in i]\n",
    "sub_instances = random.sample(sub_instances, k=resample_k)"
   ]
  },
  {
   "cell_type": "code",
   "execution_count": null,
   "metadata": {},
   "outputs": [],
   "source": [
    "selected_files = sub_instances\n",
    "for selected_file in tqdm(selected_files, desc=\"Processing files\", unit=\"file\"):\n",
    "    instance = os.path.join(instance_dir, selected_file)\n",
    "    results = run_experiment(instance)\n",
    "    file_name = selected_file.replace(\".tsp\", \"\")\n",
    "    file_path = f\"../tmp/ortools/{file_name}.{results[1]}.txt\"\n",
    "    with open(file_path, 'w+') as file:\n",
    "        file.write(f\"The result for {selected_file}\\n\")\n",
    "        file.write(f\"{results[0]}\\n\")"
   ]
  }
 ],
 "metadata": {
  "kernelspec": {
   "display_name": "Python 3 (ipykernel)",
   "language": "python",
   "name": "python3"
  },
  "language_info": {
   "codemirror_mode": {
    "name": "ipython",
    "version": 3
   },
   "file_extension": ".py",
   "mimetype": "text/x-python",
   "name": "python",
   "nbconvert_exporter": "python",
   "pygments_lexer": "ipython3",
   "version": "3.8.16"
  }
 },
 "nbformat": 4,
 "nbformat_minor": 2
}
