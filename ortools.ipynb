{
 "cells": [
  {
   "cell_type": "code",
   "execution_count": 1,
   "metadata": {},
   "outputs": [],
   "source": [
    "import os\n",
    "import time\n",
    "import re\n",
    "from tqdm import tqdm\n",
    "\n",
    "from src.problem import MultiODProblem\n",
    "from src.solution import MultiODSolution\n",
    "from src.utils import read_instance_data\n",
    "from src.gurobi.gurobi_formulation import formulation\n",
    "from src.gurobi.utils import display_gurobi_result\n",
    "from src.ortools.ortools_formulation import ortools_formulation, ortools_pd_formulation_2D\n",
    "from src.ortools.utils import display_ortools_result, generate_paths_from_ortools_result, display_pd_ortools_result"
   ]
  },
  {
   "cell_type": "code",
   "execution_count": 2,
   "metadata": {},
   "outputs": [],
   "source": [
    "instance_dir = os.path.join('data', 'tsppdlib', 'instances', 'random-uniform')"
   ]
  },
  {
   "cell_type": "code",
   "execution_count": 3,
   "metadata": {},
   "outputs": [],
   "source": [
    "instances = [i for i in os.listdir(instance_dir) if i.endswith('.tsp')]"
   ]
  },
  {
   "cell_type": "code",
   "execution_count": 4,
   "metadata": {},
   "outputs": [],
   "source": [
    "# num_O = [\"010\", \"020\", \"050\"]\n",
    "num_O = [\"010\"]"
   ]
  },
  {
   "cell_type": "code",
   "execution_count": 5,
   "metadata": {},
   "outputs": [],
   "source": [
    "def run_experiment(instance):\n",
    "    report_str = \"\"\n",
    "    locations = read_instance_data(instance)\n",
    "    p = MultiODProblem(locations=locations, ignore_to_dummy_cost=False)\n",
    "    start_time = time.time()\n",
    "    solution = ortools_pd_formulation_2D(p)\n",
    "    end_time = time.time()\n",
    "    results = display_pd_ortools_result(p, solution)\n",
    "    report_str += f\"{results[0]}\\n\"\n",
    "    report_str += f\"Time taken: {end_time-start_time} seconds\"\n",
    "    return report_str, results[1]"
   ]
  },
  {
   "cell_type": "code",
   "execution_count": 6,
   "metadata": {},
   "outputs": [
    {
     "name": "stderr",
     "output_type": "stream",
     "text": [
<<<<<<< HEAD:ortools.ipynb
      "Processing 010:  20%|██        | 5/25 [00:00<00:00, 45.59it/s]"
     ]
    },
    {
     "name": "stdout",
     "output_type": "stream",
     "text": [
      "The result for random-010-07248.tsp: \n",
      "Objective: 4405\n",
      "Route for vehicle 0:\n",
      " 1 ->  5 ->  10 ->  8 ->  3 ->  11 ->  9 ->  2 ->  4 ->  7 ->  12 ->  15 ->  6 ->  17 ->  14 ->  20 ->  18 ->  19 ->  21 ->  13 ->  16 -> 1\n",
      "Distance of the route: 4405m\n",
      "Total Distance of all routes: 4405m\n",
      "Time taken: 0.02215743064880371 seconds\n",
      "\n",
      "\n",
      "\n",
      "The result for random-010-13200.tsp: \n",
      "Objective: 4080\n",
      "Route for vehicle 0:\n",
      " 1 ->  8 ->  10 ->  20 ->  9 ->  4 ->  11 ->  2 ->  3 ->  6 ->  7 ->  5 ->  13 ->  17 ->  21 ->  19 ->  12 ->  15 ->  14 ->  18 ->  16 -> 1\n",
      "Distance of the route: 4080m\n",
      "Total Distance of all routes: 4080m\n",
      "Time taken: 0.020263671875 seconds\n",
      "\n",
      "\n",
      "\n",
      "The result for random-010-18845.tsp: \n",
      "Objective: 4227\n",
      "Route for vehicle 0:\n",
      " 1 ->  11 ->  10 ->  8 ->  5 ->  2 ->  4 ->  18 ->  21 ->  9 ->  6 ->  16 ->  7 ->  15 ->  14 ->  12 ->  17 ->  3 ->  20 ->  13 ->  19 -> 1\n",
      "Distance of the route: 4227m\n",
      "Total Distance of all routes: 4227m\n",
      "Time taken: 0.03162527084350586 seconds\n",
      "\n",
      "\n",
      "\n",
      "The result for random-010-19309.tsp: \n",
      "Objective: 3954\n",
      "Route for vehicle 0:\n",
      " 1 ->  5 ->  10 ->  7 ->  3 ->  17 ->  8 ->  20 ->  11 ->  9 ->  21 ->  15 ->  4 ->  13 ->  2 ->  18 ->  12 ->  19 ->  14 ->  6 ->  16 -> 1\n",
      "Distance of the route: 3954m\n",
      "Total Distance of all routes: 3954m\n",
      "Time taken: 0.015290975570678711 seconds\n",
      "\n",
      "\n",
      "\n",
      "The result for random-010-23697.tsp: \n",
      "Objective: 4425\n",
      "Route for vehicle 0:\n",
      " 1 ->  9 ->  8 ->  7 ->  2 ->  3 ->  6 ->  4 ->  14 ->  16 ->  11 ->  10 ->  20 ->  18 ->  5 ->  17 ->  15 ->  12 ->  13 ->  19 ->  21 -> 1\n",
      "Distance of the route: 4425m\n",
      "Total Distance of all routes: 4425m\n",
      "Time taken: 0.014002084732055664 seconds\n",
      "\n",
      "\n",
      "\n",
      "The result for random-010-24231.tsp: \n",
      "Objective: 4444\n",
      "Route for vehicle 0:\n",
      " 1 ->  5 ->  11 ->  3 ->  2 ->  13 ->  8 ->  7 ->  9 ->  6 ->  21 ->  12 ->  18 ->  4 ->  10 ->  20 ->  17 ->  19 ->  14 ->  15 ->  16 -> 1\n",
      "Distance of the route: 4444m\n",
      "Total Distance of all routes: 4444m\n",
      "Time taken: 0.029675722122192383 seconds\n",
      "\n",
      "\n",
      "\n",
      "The result for random-010-30621.tsp: \n",
      "Objective: 4225\n",
      "Route for vehicle 0:\n",
      " 1 ->  9 ->  11 ->  5 ->  19 ->  10 ->  21 ->  4 ->  8 ->  6 ->  7 ->  15 ->  16 ->  3 ->  18 ->  14 ->  20 ->  13 ->  17 ->  2 ->  12 -> 1\n",
      "Distance of the route: 4225m\n",
      "Total Distance of all routes: 4225m\n",
      "Time taken: 0.023679018020629883 seconds\n",
      "\n",
      "\n",
      "\n",
      "The result for random-010-22212.tsp: \n",
      "Objective: 4319\n",
      "Route for vehicle 0:\n",
      " 1 ->  9 ->  2 ->  7 ->  5 ->  6 ->  4 ->  8 ->  3 ->  17 ->  12 ->  19 ->  10 ->  11 ->  20 ->  18 ->  16 ->  13 ->  15 ->  14 ->  21 -> 1\n",
      "Distance of the route: 4319m\n",
      "Total Distance of all routes: 4319m\n",
      "Time taken: 0.020522117614746094 seconds\n",
      "\n",
      "\n",
      "\n",
      "The result for random-010-12166.tsp: \n"
     ]
    },
    {
     "name": "stderr",
     "output_type": "stream",
     "text": [
      "Processing 010:  60%|██████    | 15/25 [00:00<00:00, 42.87it/s]"
     ]
    },
    {
     "name": "stdout",
     "output_type": "stream",
     "text": [
      "Objective: 4206\n",
      "Route for vehicle 0:\n",
      " 1 ->  9 ->  10 ->  2 ->  4 ->  6 ->  3 ->  11 ->  5 ->  13 ->  8 ->  16 ->  15 ->  7 ->  19 ->  14 ->  17 ->  12 ->  18 ->  21 ->  20 -> 1\n",
      "Distance of the route: 4206m\n",
      "Total Distance of all routes: 4206m\n",
      "Time taken: 0.018070220947265625 seconds\n",
      "\n",
      "\n",
      "\n",
      "The result for random-010-31073.tsp: \n",
      "Objective: 4469\n",
      "Route for vehicle 0:\n",
      " 1 ->  3 ->  9 ->  5 ->  8 ->  10 ->  6 ->  2 ->  12 ->  20 ->  13 ->  4 ->  11 ->  16 ->  18 ->  21 ->  14 ->  15 ->  19 ->  7 ->  17 -> 1\n",
      "Distance of the route: 4469m\n",
      "Total Distance of all routes: 4469m\n",
      "Time taken: 0.016520977020263672 seconds\n",
      "\n",
      "\n",
      "\n",
      "The result for random-010-11763.tsp: \n",
      "Objective: 4628\n",
      "Route for vehicle 0:\n",
      " 1 ->  8 ->  10 ->  4 ->  2 ->  6 ->  12 ->  9 ->  7 ->  3 ->  18 ->  14 ->  19 ->  5 ->  13 ->  17 ->  11 ->  21 ->  16 ->  20 ->  15 -> 1\n",
      "Distance of the route: 4628m\n",
      "Total Distance of all routes: 4628m\n",
      "Time taken: 0.03297114372253418 seconds\n",
      "\n",
      "\n",
      "\n",
      "The result for random-010-20971.tsp: \n",
      "Objective: 4915\n",
      "Route for vehicle 0:\n",
      " 1 ->  6 ->  11 ->  9 ->  3 ->  2 ->  8 ->  12 ->  4 ->  14 ->  13 ->  16 ->  19 ->  7 ->  5 ->  15 ->  10 ->  21 ->  18 ->  17 ->  20 -> 1\n",
      "Distance of the route: 4915m\n",
      "Total Distance of all routes: 4915m\n",
      "Time taken: 0.020527124404907227 seconds\n",
      "\n",
      "\n",
      "\n",
      "The result for random-010-31392.tsp: \n",
      "Objective: 4210\n",
      "Route for vehicle 0:\n",
      " 1 ->  3 ->  11 ->  8 ->  4 ->  6 ->  7 ->  21 ->  16 ->  14 ->  5 ->  2 ->  12 ->  18 ->  9 ->  15 ->  10 ->  13 ->  20 ->  17 ->  19 -> 1\n",
      "Distance of the route: 4210m\n",
      "Total Distance of all routes: 4210m\n",
      "Time taken: 0.025034189224243164 seconds\n",
      "\n",
      "\n",
      "\n",
      "The result for random-010-23001.tsp: \n",
      "Objective: 3502\n",
      "Route for vehicle 0:\n",
      " 1 ->  2 ->  7 ->  10 ->  12 ->  4 ->  8 ->  3 ->  9 ->  19 ->  18 ->  5 ->  15 ->  11 ->  6 ->  17 ->  21 ->  13 ->  16 ->  14 ->  20 -> 1\n",
      "Distance of the route: 3502m\n",
      "Total Distance of all routes: 3502m\n",
      "Time taken: 0.016778945922851562 seconds\n",
      "\n",
      "\n",
      "\n",
      "The result for random-010-05876.tsp: \n",
      "Objective: 4241\n",
      "Route for vehicle 0:\n",
      " 1 ->  9 ->  7 ->  6 ->  4 ->  5 ->  11 ->  21 ->  17 ->  3 ->  8 ->  16 ->  18 ->  19 ->  14 ->  2 ->  10 ->  12 ->  15 ->  20 ->  13 -> 1\n",
      "Distance of the route: 4241m\n",
      "Total Distance of all routes: 4241m\n",
      "Time taken: 0.018991470336914062 seconds\n",
      "\n",
      "\n",
      "\n",
      "The result for random-010-20339.tsp: \n",
      "Objective: 5102\n",
      "Route for vehicle 0:\n",
      " 1 ->  6 ->  2 ->  11 ->  5 ->  15 ->  10 ->  9 ->  7 ->  16 ->  4 ->  12 ->  3 ->  19 ->  8 ->  14 ->  20 ->  13 ->  17 ->  18 ->  21 -> 1\n",
      "Distance of the route: 5102m\n",
      "Total Distance of all routes: 5102m\n",
      "Time taken: 0.021442413330078125 seconds\n",
      "\n",
      "\n",
      "\n",
      "The result for random-010-24887.tsp: \n",
      "Objective: 5235\n",
      "Route for vehicle 0:\n",
      " 1 ->  5 ->  3 ->  6 ->  10 ->  7 ->  8 ->  15 ->  4 ->  9 ->  20 ->  19 ->  16 ->  2 ->  11 ->  14 ->  12 ->  17 ->  18 ->  13 ->  21 -> 1\n",
      "Distance of the route: 5235m\n",
      "Total Distance of all routes: 5235m\n",
      "Time taken: 0.016447067260742188 seconds\n",
      "\n",
      "\n",
      "\n",
      "The result for random-010-30040.tsp: \n",
      "Objective: 4879\n",
      "Route for vehicle 0:\n",
      " 1 ->  4 ->  14 ->  6 ->  11 ->  10 ->  21 ->  5 ->  20 ->  7 ->  17 ->  8 ->  16 ->  2 ->  9 ->  12 ->  19 ->  3 ->  15 ->  18 ->  13 -> 1\n",
      "Distance of the route: 4879m\n",
      "Total Distance of all routes: 4879m\n",
      "Time taken: 0.021404743194580078 seconds\n",
      "\n",
      "\n",
      "\n",
      "The result for random-010-06151.tsp: \n"
     ]
    },
    {
     "name": "stderr",
     "output_type": "stream",
     "text": [
      "Processing 010: 100%|██████████| 25/25 [00:00<00:00, 44.11it/s]\n"
     ]
    },
    {
     "name": "stdout",
     "output_type": "stream",
     "text": [
      "Objective: 4566\n",
      "Route for vehicle 0:\n",
      " 1 ->  6 ->  5 ->  15 ->  3 ->  2 ->  8 ->  9 ->  12 ->  18 ->  11 ->  19 ->  7 ->  16 ->  17 ->  10 ->  21 ->  4 ->  13 ->  20 ->  14 -> 1\n",
      "Distance of the route: 4566m\n",
      "Total Distance of all routes: 4566m\n",
      "Time taken: 0.02317047119140625 seconds\n",
      "\n",
      "\n",
      "\n",
      "The result for random-010-22886.tsp: \n",
      "Objective: 4748\n",
      "Route for vehicle 0:\n",
      " 1 ->  9 ->  2 ->  8 ->  3 ->  13 ->  4 ->  18 ->  19 ->  12 ->  5 ->  7 ->  14 ->  15 ->  17 ->  11 ->  10 ->  20 ->  6 ->  21 ->  16 -> 1\n",
      "Distance of the route: 4748m\n",
      "Total Distance of all routes: 4748m\n",
      "Time taken: 0.02424931526184082 seconds\n",
      "\n",
      "\n",
      "\n",
      "The result for random-010-08970.tsp: \n",
      "Objective: 4590\n",
      "Route for vehicle 0:\n",
      " 1 ->  11 ->  8 ->  10 ->  6 ->  16 ->  7 ->  18 ->  5 ->  3 ->  4 ->  21 ->  20 ->  2 ->  15 ->  17 ->  9 ->  14 ->  12 ->  19 ->  13 -> 1\n",
      "Distance of the route: 4590m\n",
      "Total Distance of all routes: 4590m\n",
      "Time taken: 0.022086381912231445 seconds\n",
      "\n",
      "\n",
      "\n",
      "The result for random-010-10943.tsp: \n",
      "Objective: 4415\n",
      "Route for vehicle 0:\n",
      " 1 ->  11 ->  6 ->  7 ->  8 ->  17 ->  9 ->  16 ->  18 ->  19 ->  10 ->  5 ->  2 ->  15 ->  20 ->  4 ->  12 ->  3 ->  14 ->  21 ->  13 -> 1\n",
      "Distance of the route: 4415m\n",
      "Total Distance of all routes: 4415m\n",
      "Time taken: 0.01637554168701172 seconds\n",
      "\n",
      "\n",
      "\n",
      "The result for random-010-19739.tsp: \n",
      "Objective: 4599\n",
      "Route for vehicle 0:\n",
      " 1 ->  5 ->  7 ->  6 ->  17 ->  9 ->  11 ->  10 ->  3 ->  13 ->  15 ->  19 ->  16 ->  4 ->  2 ->  21 ->  14 ->  12 ->  8 ->  20 ->  18 -> 1\n",
      "Distance of the route: 4599m\n",
      "Total Distance of all routes: 4599m\n",
      "Time taken: 0.022708415985107422 seconds\n",
      "\n",
      "\n",
      "\n",
      "The result for random-010-06673.tsp: \n",
      "Objective: 4657\n",
      "Route for vehicle 0:\n",
      " 1 ->  6 ->  11 ->  21 ->  5 ->  2 ->  3 ->  10 ->  12 ->  20 ->  13 ->  4 ->  9 ->  8 ->  7 ->  14 ->  19 ->  16 ->  18 ->  15 ->  17 -> 1\n",
      "Distance of the route: 4657m\n",
      "Total Distance of all routes: 4657m\n",
      "Time taken: 0.020075559616088867 seconds\n",
      "\n",
      "\n",
      "\n",
      "The result for random-010-10083.tsp: \n",
      "Objective: 4622\n",
      "Route for vehicle 0:\n",
      " 1 ->  2 ->  3 ->  13 ->  4 ->  10 ->  5 ->  7 ->  9 ->  12 ->  11 ->  14 ->  8 ->  15 ->  20 ->  17 ->  21 ->  6 ->  18 ->  16 ->  19 -> 1\n",
      "Distance of the route: 4622m\n",
      "Total Distance of all routes: 4622m\n",
      "Time taken: 0.015724897384643555 seconds\n",
      "\n",
      "\n",
      "\n"
     ]
    },
    {
     "name": "stderr",
     "output_type": "stream",
     "text": [
      "Processing 020:   0%|          | 0/25 [00:00<?, ?it/s]"
     ]
    },
    {
     "name": "stdout",
     "output_type": "stream",
     "text": [
      "The result for random-020-30615.tsp: \n"
     ]
    },
    {
     "name": "stderr",
     "output_type": "stream",
     "text": [
      "Processing 020:   4%|▍         | 1/25 [00:00<00:04,  5.94it/s]"
     ]
    },
    {
     "name": "stdout",
     "output_type": "stream",
     "text": [
      "Objective: 5833\n",
      "Route for vehicle 0:\n",
      " 1 ->  6 ->  12 ->  2 ->  17 ->  3 ->  7 ->  10 ->  9 ->  4 ->  15 ->  22 ->  14 ->  23 ->  19 ->  21 ->  26 ->  20 ->  39 ->  40 ->  35 ->  27 ->  13 ->  24 ->  18 ->  11 ->  38 ->  16 ->  8 ->  5 ->  37 ->  29 ->  41 ->  36 ->  34 ->  25 ->  33 ->  30 ->  32 ->  28 ->  31 -> 1\n",
      "Distance of the route: 5833m\n",
      "Total Distance of all routes: 5833m\n",
      "Time taken: 0.16530561447143555 seconds\n",
      "\n",
      "\n",
      "\n",
      "The result for random-020-06649.tsp: \n"
     ]
    },
    {
     "name": "stderr",
     "output_type": "stream",
     "text": [
      "Processing 020:   8%|▊         | 2/25 [00:00<00:04,  5.59it/s]"
     ]
    },
    {
     "name": "stdout",
     "output_type": "stream",
     "text": [
      "Objective: 5335\n",
      "Route for vehicle 0:\n",
      " 1 ->  2 ->  16 ->  8 ->  4 ->  12 ->  21 ->  7 ->  5 ->  32 ->  20 ->  9 ->  6 ->  18 ->  14 ->  3 ->  40 ->  15 ->  10 ->  22 ->  11 ->  23 ->  19 ->  41 ->  28 ->  34 ->  17 ->  35 ->  27 ->  25 ->  13 ->  37 ->  26 ->  33 ->  29 ->  38 ->  39 ->  30 ->  36 ->  24 ->  31 -> 1\n",
      "Distance of the route: 5335m\n",
      "Total Distance of all routes: 5335m\n",
      "Time taken: 0.1827836036682129 seconds\n",
      "\n",
      "\n",
      "\n",
      "The result for random-020-22239.tsp: \n"
     ]
    },
    {
     "name": "stderr",
     "output_type": "stream",
     "text": [
      "Processing 020:  12%|█▏        | 3/25 [00:00<00:03,  6.11it/s]"
     ]
    },
    {
     "name": "stdout",
     "output_type": "stream",
     "text": [
      "Objective: 6485\n",
      "Route for vehicle 0:\n",
      " 1 ->  13 ->  4 ->  9 ->  8 ->  15 ->  5 ->  6 ->  2 ->  17 ->  37 ->  12 ->  14 ->  10 ->  7 ->  26 ->  24 ->  11 ->  16 ->  3 ->  36 ->  30 ->  28 ->  25 ->  33 ->  27 ->  23 ->  18 ->  34 ->  20 ->  35 ->  29 ->  38 ->  19 ->  21 ->  39 ->  22 ->  41 ->  40 ->  32 ->  31 -> 1\n",
      "Distance of the route: 6485m\n",
      "Total Distance of all routes: 6485m\n",
      "Time taken: 0.1413583755493164 seconds\n",
      "\n",
      "\n",
      "\n",
      "The result for random-020-20180.tsp: \n"
     ]
    },
    {
     "name": "stderr",
     "output_type": "stream",
     "text": [
      "Processing 020:  16%|█▌        | 4/25 [00:00<00:03,  6.35it/s]"
     ]
    },
    {
     "name": "stdout",
     "output_type": "stream",
     "text": [
      "Objective: 6494\n",
      "Route for vehicle 0:\n",
      " 1 ->  20 ->  14 ->  18 ->  2 ->  21 ->  4 ->  15 ->  8 ->  19 ->  16 ->  22 ->  35 ->  11 ->  9 ->  5 ->  31 ->  13 ->  36 ->  39 ->  29 ->  3 ->  40 ->  24 ->  6 ->  12 ->  23 ->  33 ->  26 ->  28 ->  34 ->  41 ->  7 ->  17 ->  25 ->  10 ->  30 ->  27 ->  37 ->  32 ->  38 -> 1\n",
      "Distance of the route: 6494m\n",
      "Total Distance of all routes: 6494m\n",
      "Time taken: 0.14431357383728027 seconds\n",
      "\n",
      "\n",
      "\n",
      "The result for random-020-24276.tsp: \n"
     ]
    },
    {
     "name": "stderr",
     "output_type": "stream",
     "text": [
      "Processing 020:  20%|██        | 5/25 [00:00<00:02,  7.08it/s]"
     ]
    },
    {
     "name": "stdout",
     "output_type": "stream",
     "text": [
      "Objective: 6543\n",
      "Route for vehicle 0:\n",
      " 1 ->  16 ->  13 ->  18 ->  10 ->  5 ->  4 ->  7 ->  6 ->  20 ->  40 ->  38 ->  12 ->  14 ->  34 ->  11 ->  8 ->  17 ->  3 ->  36 ->  21 ->  19 ->  9 ->  25 ->  31 ->  15 ->  2 ->  27 ->  24 ->  30 ->  35 ->  39 ->  29 ->  28 ->  32 ->  23 ->  26 ->  41 ->  22 ->  37 ->  33 -> 1\n",
      "Distance of the route: 6543m\n",
      "Total Distance of all routes: 6543m\n",
      "Time taken: 0.10935473442077637 seconds\n",
      "\n",
      "\n",
      "\n",
      "The result for random-020-13151.tsp: \n"
     ]
    },
    {
     "name": "stderr",
     "output_type": "stream",
     "text": [
      "Processing 020:  24%|██▍       | 6/25 [00:00<00:02,  6.70it/s]"
     ]
    },
    {
     "name": "stdout",
     "output_type": "stream",
     "text": [
      "Objective: 6203\n",
      "Route for vehicle 0:\n",
      " 1 ->  10 ->  7 ->  18 ->  21 ->  17 ->  30 ->  37 ->  8 ->  13 ->  15 ->  14 ->  33 ->  9 ->  11 ->  6 ->  27 ->  16 ->  3 ->  20 ->  29 ->  38 ->  26 ->  40 ->  41 ->  36 ->  35 ->  2 ->  12 ->  4 ->  5 ->  31 ->  19 ->  23 ->  28 ->  24 ->  22 ->  34 ->  32 ->  39 ->  25 -> 1\n",
      "Distance of the route: 6203m\n",
      "Total Distance of all routes: 6203m\n",
      "Time taken: 0.16171932220458984 seconds\n",
      "\n",
      "\n",
      "\n",
      "The result for random-020-05654.tsp: \n"
     ]
    },
    {
     "name": "stderr",
     "output_type": "stream",
     "text": [
      "Processing 020:  28%|██▊       | 7/25 [00:01<00:02,  6.72it/s]"
     ]
    },
    {
     "name": "stdout",
     "output_type": "stream",
     "text": [
      "Objective: 6326\n",
      "Route for vehicle 0:\n",
      " 1 ->  19 ->  6 ->  4 ->  11 ->  21 ->  2 ->  16 ->  9 ->  22 ->  18 ->  36 ->  13 ->  17 ->  15 ->  7 ->  27 ->  39 ->  38 ->  37 ->  10 ->  29 ->  30 ->  14 ->  12 ->  3 ->  5 ->  24 ->  33 ->  26 ->  20 ->  23 ->  35 ->  31 ->  25 ->  40 ->  41 ->  34 ->  8 ->  28 ->  32 -> 1\n",
      "Distance of the route: 6326m\n",
      "Total Distance of all routes: 6326m\n",
      "Time taken: 0.14449834823608398 seconds\n",
      "\n",
      "\n",
      "\n",
      "The result for random-020-03115.tsp: \n"
     ]
    },
    {
     "name": "stderr",
     "output_type": "stream",
     "text": [
      "Processing 020:  32%|███▏      | 8/25 [00:01<00:02,  6.87it/s]"
     ]
    },
    {
     "name": "stdout",
     "output_type": "stream",
     "text": [
      "Objective: 7194\n",
      "Route for vehicle 0:\n",
      " 1 ->  13 ->  12 ->  15 ->  4 ->  9 ->  29 ->  21 ->  18 ->  16 ->  2 ->  38 ->  17 ->  36 ->  41 ->  11 ->  6 ->  8 ->  37 ->  10 ->  20 ->  31 ->  33 ->  32 ->  5 ->  14 ->  7 ->  30 ->  3 ->  22 ->  24 ->  23 ->  25 ->  40 ->  27 ->  35 ->  19 ->  34 ->  26 ->  39 ->  28 -> 1\n",
      "Distance of the route: 7194m\n",
      "Total Distance of all routes: 7194m\n",
      "Time taken: 0.13543939590454102 seconds\n",
      "\n",
      "\n",
      "\n",
      "The result for random-020-28916.tsp: \n"
     ]
    },
    {
     "name": "stderr",
     "output_type": "stream",
     "text": [
      "Processing 020:  40%|████      | 10/25 [00:01<00:02,  6.18it/s]"
     ]
    },
    {
     "name": "stdout",
     "output_type": "stream",
     "text": [
      "Objective: 6388\n",
      "Route for vehicle 0:\n",
      " 1 ->  14 ->  21 ->  16 ->  13 ->  10 ->  20 ->  4 ->  15 ->  41 ->  5 ->  30 ->  34 ->  19 ->  35 ->  18 ->  38 ->  36 ->  25 ->  6 ->  9 ->  2 ->  7 ->  8 ->  33 ->  28 ->  24 ->  17 ->  39 ->  12 ->  27 ->  29 ->  40 ->  32 ->  26 ->  3 ->  23 ->  22 ->  37 ->  11 ->  31 -> 1\n",
      "Distance of the route: 6388m\n",
      "Total Distance of all routes: 6388m\n",
      "Time taken: 0.2331526279449463 seconds\n",
      "\n",
      "\n",
      "\n",
      "The result for random-020-28956.tsp: \n",
      "Objective: 6848\n",
      "Route for vehicle 0:\n",
      " 1 ->  12 ->  16 ->  21 ->  2 ->  20 ->  11 ->  5 ->  3 ->  17 ->  6 ->  36 ->  13 ->  32 ->  4 ->  14 ->  22 ->  26 ->  9 ->  8 ->  40 ->  29 ->  28 ->  18 ->  41 ->  23 ->  19 ->  10 ->  30 ->  24 ->  7 ->  31 ->  15 ->  27 ->  37 ->  25 ->  35 ->  33 ->  39 ->  38 ->  34 -> 1\n",
      "Distance of the route: 6848m\n",
      "Total Distance of all routes: 6848m\n",
      "Time taken: 0.13198089599609375 seconds\n",
      "\n",
      "\n",
      "\n",
      "The result for random-020-28353.tsp: \n"
     ]
    },
    {
     "name": "stderr",
     "output_type": "stream",
     "text": [
      "Processing 020:  48%|████▊     | 12/25 [00:01<00:01,  6.52it/s]"
     ]
    },
    {
     "name": "stdout",
     "output_type": "stream",
     "text": [
      "Objective: 6393\n",
      "Route for vehicle 0:\n",
      " 1 ->  19 ->  2 ->  10 ->  9 ->  7 ->  3 ->  5 ->  11 ->  12 ->  30 ->  16 ->  18 ->  20 ->  13 ->  21 ->  17 ->  4 ->  8 ->  37 ->  24 ->  28 ->  32 ->  39 ->  29 ->  15 ->  6 ->  36 ->  26 ->  27 ->  38 ->  23 ->  25 ->  35 ->  40 ->  14 ->  31 ->  34 ->  41 ->  22 ->  33 -> 1\n",
      "Distance of the route: 6393m\n",
      "Total Distance of all routes: 6393m\n",
      "Time taken: 0.10768270492553711 seconds\n",
      "\n",
      "\n",
      "\n",
      "The result for random-020-11799.tsp: \n",
      "Objective: 6050\n",
      "Route for vehicle 0:\n",
      " 1 ->  2 ->  10 ->  5 ->  30 ->  20 ->  6 ->  3 ->  4 ->  9 ->  14 ->  25 ->  16 ->  21 ->  23 ->  8 ->  7 ->  15 ->  40 ->  11 ->  19 ->  39 ->  18 ->  17 ->  24 ->  12 ->  37 ->  35 ->  27 ->  38 ->  26 ->  22 ->  41 ->  13 ->  31 ->  36 ->  34 ->  28 ->  32 ->  29 ->  33 -> 1\n",
      "Distance of the route: 6050m\n",
      "Total Distance of all routes: 6050m\n",
      "Time taken: 0.16695809364318848 seconds\n",
      "\n",
      "\n",
      "\n",
      "The result for random-020-10128.tsp: \n"
     ]
    },
    {
     "name": "stderr",
     "output_type": "stream",
     "text": [
      "Processing 020:  56%|█████▌    | 14/25 [00:02<00:01,  5.64it/s]"
     ]
    },
    {
     "name": "stdout",
     "output_type": "stream",
     "text": [
      "Objective: 5578\n",
      "Route for vehicle 0:\n",
      " 1 ->  8 ->  14 ->  16 ->  17 ->  34 ->  4 ->  11 ->  19 ->  9 ->  13 ->  28 ->  3 ->  37 ->  12 ->  15 ->  5 ->  20 ->  36 ->  25 ->  35 ->  21 ->  23 ->  24 ->  18 ->  6 ->  38 ->  32 ->  29 ->  26 ->  33 ->  2 ->  39 ->  22 ->  41 ->  10 ->  31 ->  40 ->  7 ->  27 ->  30 -> 1\n",
      "Distance of the route: 5578m\n",
      "Total Distance of all routes: 5578m\n",
      "Time taken: 0.21557140350341797 seconds\n",
      "\n",
      "\n",
      "\n",
      "The result for random-020-32388.tsp: \n",
      "Objective: 6726\n",
      "Route for vehicle 0:\n",
      " 1 ->  5 ->  18 ->  15 ->  2 ->  21 ->  8 ->  10 ->  35 ->  20 ->  19 ->  7 ->  4 ->  41 ->  9 ->  14 ->  3 ->  27 ->  22 ->  12 ->  40 ->  23 ->  30 ->  17 ->  38 ->  16 ->  32 ->  13 ->  24 ->  29 ->  33 ->  11 ->  36 ->  37 ->  6 ->  25 ->  26 ->  31 ->  34 ->  28 ->  39 -> 1\n",
      "Distance of the route: 6726m\n",
      "Total Distance of all routes: 6726m\n",
      "Time taken: 0.18339824676513672 seconds\n",
      "\n",
      "\n",
      "\n",
      "The result for random-020-09540.tsp: \n"
     ]
    },
    {
     "name": "stderr",
     "output_type": "stream",
     "text": [
      "Processing 020:  60%|██████    | 15/25 [00:02<00:01,  5.49it/s]"
     ]
    },
    {
     "name": "stdout",
     "output_type": "stream",
     "text": [
      "Objective: 6138\n",
      "Route for vehicle 0:\n",
      " 1 ->  17 ->  4 ->  12 ->  7 ->  18 ->  20 ->  6 ->  2 ->  9 ->  10 ->  16 ->  15 ->  24 ->  27 ->  26 ->  29 ->  8 ->  38 ->  19 ->  22 ->  36 ->  3 ->  23 ->  13 ->  14 ->  32 ->  30 ->  21 ->  40 ->  28 ->  37 ->  41 ->  11 ->  31 ->  39 ->  35 ->  5 ->  25 ->  34 ->  33 -> 1\n",
      "Distance of the route: 6138m\n",
      "Total Distance of all routes: 6138m\n",
      "Time taken: 0.19027066230773926 seconds\n",
      "\n",
      "\n",
      "\n",
      "The result for random-020-24594.tsp: \n"
     ]
    },
    {
     "name": "stderr",
     "output_type": "stream",
     "text": [
      "Processing 020:  64%|██████▍   | 16/25 [00:02<00:01,  4.73it/s]"
     ]
    },
    {
     "name": "stdout",
     "output_type": "stream",
     "text": [
      "Objective: 6062\n",
      "Route for vehicle 0:\n",
      " 1 ->  4 ->  17 ->  3 ->  9 ->  6 ->  8 ->  12 ->  24 ->  21 ->  41 ->  15 ->  19 ->  18 ->  23 ->  14 ->  39 ->  34 ->  28 ->  7 ->  37 ->  13 ->  5 ->  32 ->  16 ->  38 ->  10 ->  33 ->  27 ->  11 ->  30 ->  29 ->  2 ->  25 ->  22 ->  20 ->  40 ->  26 ->  31 ->  35 ->  36 -> 1\n",
      "Distance of the route: 6062m\n",
      "Total Distance of all routes: 6062m\n",
      "Time taken: 0.27600669860839844 seconds\n",
      "\n",
      "\n",
      "\n",
      "The result for random-020-02593.tsp: \n"
     ]
    },
    {
     "name": "stderr",
     "output_type": "stream",
     "text": [
      "Processing 020:  72%|███████▏  | 18/25 [00:03<00:01,  4.36it/s]"
     ]
    },
    {
     "name": "stdout",
     "output_type": "stream",
     "text": [
      "Objective: 6369\n",
      "Route for vehicle 0:\n",
      " 1 ->  12 ->  2 ->  16 ->  17 ->  3 ->  37 ->  23 ->  13 ->  9 ->  15 ->  6 ->  7 ->  10 ->  26 ->  8 ->  20 ->  14 ->  5 ->  30 ->  4 ->  11 ->  31 ->  32 ->  33 ->  24 ->  19 ->  25 ->  22 ->  35 ->  18 ->  39 ->  34 ->  29 ->  40 ->  21 ->  38 ->  36 ->  27 ->  28 ->  41 -> 1\n",
      "Distance of the route: 6369m\n",
      "Total Distance of all routes: 6369m\n",
      "Time taken: 0.4336357116699219 seconds\n",
      "\n",
      "\n",
      "\n",
      "The result for random-020-12761.tsp: \n",
      "Objective: 6559\n",
      "Route for vehicle 0:\n",
      " 1 ->  5 ->  12 ->  17 ->  18 ->  8 ->  32 ->  15 ->  10 ->  35 ->  9 ->  14 ->  30 ->  11 ->  16 ->  20 ->  4 ->  3 ->  21 ->  38 ->  6 ->  13 ->  25 ->  23 ->  19 ->  31 ->  29 ->  36 ->  2 ->  33 ->  39 ->  40 ->  26 ->  34 ->  7 ->  41 ->  24 ->  22 ->  27 ->  37 ->  28 -> 1\n",
      "Distance of the route: 6559m\n",
      "Total Distance of all routes: 6559m\n",
      "Time taken: 0.10978960990905762 seconds\n",
      "\n",
      "\n",
      "\n",
      "The result for random-020-25278.tsp: \n"
     ]
    },
    {
     "name": "stderr",
     "output_type": "stream",
     "text": [
      "Processing 020:  76%|███████▌  | 19/25 [00:03<00:01,  4.22it/s]"
     ]
    },
    {
     "name": "stdout",
     "output_type": "stream",
     "text": [
      "Objective: 6053\n",
      "Route for vehicle 0:\n",
      " 1 ->  15 ->  6 ->  2 ->  13 ->  18 ->  12 ->  21 ->  33 ->  8 ->  4 ->  26 ->  16 ->  7 ->  11 ->  20 ->  10 ->  22 ->  19 ->  28 ->  3 ->  30 ->  35 ->  27 ->  5 ->  41 ->  24 ->  36 ->  23 ->  14 ->  32 ->  38 ->  25 ->  31 ->  17 ->  34 ->  39 ->  9 ->  40 ->  29 ->  37 -> 1\n",
      "Distance of the route: 6053m\n",
      "Total Distance of all routes: 6053m\n",
      "Time taken: 0.251422643661499 seconds\n",
      "\n",
      "\n",
      "\n",
      "The result for random-020-08593.tsp: \n"
     ]
    },
    {
     "name": "stderr",
     "output_type": "stream",
     "text": [
      "Processing 020:  80%|████████  | 20/25 [00:03<00:01,  3.91it/s]"
     ]
    },
    {
     "name": "stdout",
     "output_type": "stream",
     "text": [
      "Objective: 6382\n",
      "Route for vehicle 0:\n",
      " 1 ->  9 ->  12 ->  7 ->  3 ->  19 ->  27 ->  2 ->  8 ->  10 ->  20 ->  22 ->  4 ->  30 ->  21 ->  15 ->  29 ->  18 ->  14 ->  16 ->  41 ->  23 ->  13 ->  38 ->  24 ->  11 ->  40 ->  17 ->  37 ->  33 ->  36 ->  5 ->  28 ->  25 ->  32 ->  34 ->  6 ->  26 ->  35 ->  39 ->  31 -> 1\n",
      "Distance of the route: 6382m\n",
      "Total Distance of all routes: 6382m\n",
      "Time taken: 0.29517221450805664 seconds\n",
      "\n",
      "\n",
      "\n",
      "The result for random-020-12952.tsp: \n"
     ]
    },
    {
     "name": "stderr",
     "output_type": "stream",
     "text": [
      "Processing 020:  88%|████████▊ | 22/25 [00:04<00:00,  4.42it/s]"
     ]
    },
    {
     "name": "stdout",
     "output_type": "stream",
     "text": [
      "Objective: 6738\n",
      "Route for vehicle 0:\n",
      " 1 ->  5 ->  4 ->  25 ->  9 ->  6 ->  2 ->  18 ->  19 ->  10 ->  17 ->  13 ->  7 ->  14 ->  24 ->  22 ->  8 ->  11 ->  30 ->  21 ->  37 ->  20 ->  38 ->  31 ->  27 ->  3 ->  16 ->  34 ->  15 ->  23 ->  28 ->  33 ->  36 ->  41 ->  12 ->  35 ->  26 ->  32 ->  39 ->  40 ->  29 -> 1\n",
      "Distance of the route: 6738m\n",
      "Total Distance of all routes: 6738m\n",
      "Time taken: 0.2054290771484375 seconds\n",
      "\n",
      "\n",
      "\n",
      "The result for random-020-20029.tsp: \n",
      "Objective: 6323\n",
      "Route for vehicle 0:\n",
      " 1 ->  16 ->  8 ->  7 ->  12 ->  11 ->  9 ->  15 ->  10 ->  6 ->  18 ->  4 ->  24 ->  20 ->  30 ->  2 ->  26 ->  13 ->  31 ->  28 ->  17 ->  14 ->  29 ->  33 ->  19 ->  21 ->  22 ->  40 ->  3 ->  5 ->  32 ->  35 ->  27 ->  37 ->  36 ->  38 ->  39 ->  34 ->  25 ->  41 ->  23 -> 1\n",
      "Distance of the route: 6323m\n",
      "Total Distance of all routes: 6323m\n",
      "Time taken: 0.1870574951171875 seconds\n",
      "\n",
      "\n",
      "\n",
      "The result for random-020-29583.tsp: \n"
     ]
    },
    {
     "name": "stderr",
     "output_type": "stream",
     "text": [
      "Processing 020:  92%|█████████▏| 23/25 [00:04<00:00,  4.84it/s]"
     ]
    },
    {
     "name": "stdout",
     "output_type": "stream",
     "text": [
      "Objective: 5677\n",
      "Route for vehicle 0:\n",
      " 1 ->  17 ->  18 ->  16 ->  14 ->  21 ->  8 ->  7 ->  27 ->  13 ->  37 ->  28 ->  15 ->  3 ->  11 ->  36 ->  19 ->  23 ->  6 ->  5 ->  34 ->  12 ->  9 ->  20 ->  4 ->  41 ->  39 ->  10 ->  38 ->  30 ->  35 ->  29 ->  33 ->  40 ->  32 ->  26 ->  31 ->  2 ->  22 ->  24 ->  25 -> 1\n",
      "Distance of the route: 5677m\n",
      "Total Distance of all routes: 5677m\n",
      "Time taken: 0.1577153205871582 seconds\n",
      "\n",
      "\n",
      "\n",
      "The result for random-020-19723.tsp: \n"
     ]
    },
    {
     "name": "stderr",
     "output_type": "stream",
     "text": [
      "Processing 020: 100%|██████████| 25/25 [00:04<00:00,  5.02it/s]\n"
     ]
    },
    {
     "name": "stdout",
     "output_type": "stream",
     "text": [
      "Objective: 6344\n",
      "Route for vehicle 0:\n",
      " 1 ->  15 ->  13 ->  6 ->  21 ->  3 ->  16 ->  18 ->  4 ->  17 ->  38 ->  12 ->  9 ->  37 ->  36 ->  35 ->  32 ->  14 ->  26 ->  5 ->  33 ->  29 ->  10 ->  2 ->  30 ->  20 ->  7 ->  8 ->  40 ->  34 ->  19 ->  28 ->  23 ->  11 ->  41 ->  39 ->  22 ->  24 ->  27 ->  25 ->  31 -> 1\n",
      "Distance of the route: 6344m\n",
      "Total Distance of all routes: 6344m\n",
      "Time taken: 0.39444422721862793 seconds\n",
      "\n",
      "\n",
      "\n",
      "The result for random-020-10770.tsp: \n",
      "Objective: 6430\n",
      "Route for vehicle 0:\n",
      " 1 ->  11 ->  21 ->  6 ->  41 ->  19 ->  2 ->  13 ->  26 ->  31 ->  7 ->  12 ->  16 ->  18 ->  4 ->  38 ->  14 ->  17 ->  27 ->  33 ->  20 ->  9 ->  24 ->  39 ->  29 ->  37 ->  10 ->  15 ->  8 ->  35 ->  32 ->  5 ->  3 ->  40 ->  34 ->  25 ->  36 ->  28 ->  23 ->  22 ->  30 -> 1\n",
      "Distance of the route: 6430m\n",
      "Total Distance of all routes: 6430m\n",
      "Time taken: 0.17693328857421875 seconds\n",
      "\n",
      "\n",
      "\n"
     ]
    },
    {
     "name": "stderr",
     "output_type": "stream",
     "text": [
      "Processing 050:   0%|          | 0/25 [00:00<?, ?it/s]"
     ]
    },
    {
     "name": "stdout",
     "output_type": "stream",
     "text": [
      "The result for random-050-16416.tsp: \n"
     ]
    },
    {
     "name": "stderr",
     "output_type": "stream",
     "text": [
      "Processing 050:   4%|▍         | 1/25 [00:06<02:25,  6.06s/it]"
     ]
    },
    {
     "name": "stdout",
     "output_type": "stream",
     "text": [
      "Objective: 10532\n",
      "Route for vehicle 0:\n",
      " 1 ->  24 ->  45 ->  44 ->  28 ->  31 ->  16 ->  43 ->  25 ->  30 ->  19 ->  40 ->  23 ->  46 ->  78 ->  69 ->  48 ->  15 ->  35 ->  2 ->  32 ->  36 ->  51 ->  4 ->  74 ->  26 ->  34 ->  47 ->  98 ->  29 ->  21 ->  18 ->  49 ->  20 ->  79 ->  52 ->  75 ->  9 ->  11 ->  96 ->  84 ->  33 ->  90 ->  73 ->  81 ->  22 ->  3 ->  68 ->  50 ->  100 ->  101 ->  41 ->  53 ->  61 ->  8 ->  37 ->  38 ->  80 ->  12 ->  6 ->  88 ->  10 ->  58 ->  59 ->  95 ->  17 ->  83 ->  86 ->  39 ->  56 ->  89 ->  70 ->  67 ->  94 ->  13 ->  62 ->  85 ->  27 ->  60 ->  77 ->  14 ->  54 ->  7 ->  65 ->  66 ->  5 ->  93 ->  87 ->  42 ->  55 ->  97 ->  76 ->  71 ->  64 ->  72 ->  82 ->  57 ->  63 ->  91 ->  92 ->  99 -> 1\n",
      "Distance of the route: 10532m\n",
      "Total Distance of all routes: 10532m\n",
      "Time taken: 5.985502481460571 seconds\n",
      "\n",
      "\n",
      "\n",
      "The result for random-050-08681.tsp: \n"
     ]
    },
    {
     "name": "stderr",
     "output_type": "stream",
     "text": [
      "Processing 050:   8%|▊         | 2/25 [00:17<03:32,  9.25s/it]"
     ]
    },
    {
     "name": "stdout",
     "output_type": "stream",
     "text": [
      "Objective: 10064\n",
      "Route for vehicle 0:\n",
      " 1 ->  21 ->  3 ->  28 ->  40 ->  14 ->  50 ->  13 ->  9 ->  16 ->  36 ->  39 ->  30 ->  17 ->  47 ->  23 ->  67 ->  29 ->  44 ->  31 ->  26 ->  73 ->  11 ->  49 ->  18 ->  25 ->  32 ->  63 ->  15 ->  78 ->  79 ->  61 ->  10 ->  41 ->  20 ->  27 ->  4 ->  100 ->  8 ->  19 ->  38 ->  34 ->  2 ->  48 ->  45 ->  95 ->  42 ->  82 ->  81 ->  66 ->  99 ->  22 ->  72 ->  84 ->  58 ->  89 ->  33 ->  75 ->  7 ->  68 ->  57 ->  97 ->  46 ->  5 ->  12 ->  86 ->  64 ->  35 ->  92 ->  43 ->  71 ->  70 ->  88 ->  59 ->  96 ->  54 ->  55 ->  37 ->  6 ->  24 ->  51 ->  74 ->  83 ->  85 ->  98 ->  90 ->  60 ->  77 ->  76 ->  69 ->  80 ->  94 ->  87 ->  56 ->  91 ->  52 ->  93 ->  62 ->  53 ->  101 ->  65 -> 1\n",
      "Distance of the route: 10064m\n",
      "Total Distance of all routes: 10064m\n",
      "Time taken: 11.47238540649414 seconds\n",
      "\n",
      "\n",
      "\n",
      "The result for random-050-11060.tsp: \n"
     ]
    },
    {
     "name": "stderr",
     "output_type": "stream",
     "text": [
      "Processing 050:  12%|█▏        | 3/25 [00:23<02:52,  7.84s/it]"
     ]
    },
    {
     "name": "stdout",
     "output_type": "stream",
     "text": [
      "Objective: 9711\n",
      "Route for vehicle 0:\n",
      " 1 ->  38 ->  27 ->  33 ->  12 ->  44 ->  51 ->  32 ->  31 ->  6 ->  41 ->  47 ->  19 ->  22 ->  82 ->  72 ->  11 ->  20 ->  83 ->  91 ->  25 ->  26 ->  24 ->  74 ->  8 ->  101 ->  18 ->  42 ->  40 ->  50 ->  45 ->  29 ->  21 ->  34 ->  70 ->  39 ->  5 ->  14 ->  46 ->  96 ->  77 ->  16 ->  49 ->  36 ->  55 ->  90 ->  99 ->  30 ->  86 ->  80 ->  23 ->  69 ->  43 ->  9 ->  13 ->  84 ->  81 ->  89 ->  92 ->  10 ->  76 ->  71 ->  66 ->  100 ->  2 ->  73 ->  58 ->  37 ->  87 ->  88 ->  7 ->  56 ->  17 ->  57 ->  97 ->  94 ->  35 ->  60 ->  4 ->  15 ->  85 ->  61 ->  54 ->  48 ->  95 ->  64 ->  75 ->  3 ->  53 ->  67 ->  68 ->  59 ->  65 ->  28 ->  78 ->  93 ->  62 ->  52 ->  79 ->  63 ->  98 -> 1\n",
      "Distance of the route: 9711m\n",
      "Total Distance of all routes: 9711m\n",
      "Time taken: 6.1551430225372314 seconds\n",
      "\n",
      "\n",
      "\n",
      "The result for random-050-20537.tsp: \n"
     ]
    },
    {
     "name": "stderr",
     "output_type": "stream",
     "text": [
      "Processing 050:  16%|█▌        | 4/25 [00:29<02:28,  7.07s/it]"
     ]
    },
    {
     "name": "stdout",
     "output_type": "stream",
     "text": [
      "Objective: 9534\n",
      "Route for vehicle 0:\n",
      " 1 ->  20 ->  11 ->  31 ->  26 ->  3 ->  35 ->  18 ->  49 ->  4 ->  28 ->  43 ->  9 ->  37 ->  29 ->  38 ->  30 ->  41 ->  23 ->  81 ->  15 ->  42 ->  93 ->  17 ->  19 ->  24 ->  25 ->  32 ->  33 ->  92 ->  80 ->  70 ->  65 ->  34 ->  67 ->  7 ->  82 ->  91 ->  99 ->  61 ->  68 ->  14 ->  74 ->  45 ->  78 ->  10 ->  36 ->  86 ->  6 ->  22 ->  13 ->  5 ->  59 ->  8 ->  95 ->  44 ->  69 ->  16 ->  21 ->  88 ->  40 ->  79 ->  51 ->  47 ->  2 ->  46 ->  48 ->  39 ->  76 ->  97 ->  66 ->  84 ->  98 ->  27 ->  101 ->  73 ->  96 ->  90 ->  75 ->  56 ->  72 ->  71 ->  12 ->  57 ->  87 ->  55 ->  50 ->  85 ->  52 ->  89 ->  77 ->  62 ->  63 ->  83 ->  64 ->  53 ->  60 ->  94 ->  54 ->  100 ->  58 -> 1\n",
      "Distance of the route: 9534m\n",
      "Total Distance of all routes: 9534m\n",
      "Time taken: 5.892992734909058 seconds\n",
      "\n",
      "\n",
      "\n",
      "The result for random-050-28298.tsp: \n"
     ]
    },
    {
     "name": "stderr",
     "output_type": "stream",
     "text": [
      "Processing 050:  20%|██        | 5/25 [00:36<02:19,  6.98s/it]"
     ]
    },
    {
     "name": "stdout",
     "output_type": "stream",
     "text": [
      "Objective: 10369\n",
      "Route for vehicle 0:\n",
      " 1 ->  10 ->  21 ->  8 ->  11 ->  19 ->  71 ->  2 ->  14 ->  51 ->  22 ->  13 ->  23 ->  9 ->  52 ->  32 ->  47 ->  24 ->  44 ->  29 ->  5 ->  101 ->  12 ->  33 ->  26 ->  36 ->  17 ->  73 ->  62 ->  7 ->  58 ->  69 ->  34 ->  4 ->  86 ->  31 ->  41 ->  30 ->  20 ->  60 ->  83 ->  55 ->  27 ->  42 ->  57 ->  28 ->  18 ->  59 ->  94 ->  39 ->  48 ->  38 ->  49 ->  98 ->  99 ->  89 ->  84 ->  72 ->  68 ->  78 ->  6 ->  81 ->  50 ->  67 ->  3 ->  43 ->  97 ->  56 ->  76 ->  70 ->  16 ->  40 ->  15 ->  45 ->  92 ->  65 ->  88 ->  46 ->  66 ->  35 ->  37 ->  53 ->  91 ->  90 ->  63 ->  77 ->  100 ->  93 ->  25 ->  61 ->  80 ->  95 ->  96 ->  79 ->  74 ->  75 ->  54 ->  64 ->  87 ->  82 ->  85 -> 1\n",
      "Distance of the route: 10369m\n",
      "Total Distance of all routes: 10369m\n",
      "Time taken: 6.801906585693359 seconds\n",
      "\n",
      "\n",
      "\n",
      "The result for random-050-14495.tsp: \n"
     ]
    },
    {
     "name": "stderr",
     "output_type": "stream",
     "text": [
      "Processing 050:  24%|██▍       | 6/25 [00:40<01:56,  6.11s/it]"
     ]
    },
    {
     "name": "stdout",
     "output_type": "stream",
     "text": [
      "Objective: 9886\n",
      "Route for vehicle 0:\n",
      " 1 ->  18 ->  45 ->  23 ->  2 ->  9 ->  37 ->  87 ->  13 ->  8 ->  29 ->  40 ->  26 ->  95 ->  44 ->  27 ->  11 ->  10 ->  52 ->  5 ->  35 ->  25 ->  12 ->  60 ->  55 ->  22 ->  33 ->  39 ->  50 ->  15 ->  51 ->  32 ->  58 ->  61 ->  46 ->  31 ->  19 ->  42 ->  28 ->  41 ->  34 ->  49 ->  21 ->  78 ->  47 ->  63 ->  81 ->  4 ->  100 ->  48 ->  77 ->  59 ->  65 ->  36 ->  98 ->  79 ->  83 ->  30 ->  82 ->  96 ->  75 ->  71 ->  62 ->  24 ->  38 ->  74 ->  7 ->  17 ->  14 ->  43 ->  93 ->  6 ->  72 ->  54 ->  64 ->  101 ->  97 ->  99 ->  3 ->  85 ->  57 ->  69 ->  90 ->  56 ->  84 ->  20 ->  16 ->  80 ->  86 ->  70 ->  53 ->  76 ->  88 ->  94 ->  66 ->  73 ->  92 ->  67 ->  89 ->  68 ->  91 -> 1\n",
      "Distance of the route: 9886m\n",
      "Total Distance of all routes: 9886m\n",
      "Time taken: 4.4269938468933105 seconds\n",
      "\n",
      "\n",
      "\n",
      "The result for random-050-12086.tsp: \n"
     ]
    },
    {
     "name": "stderr",
     "output_type": "stream",
     "text": [
      "Processing 050:  28%|██▊       | 7/25 [00:46<01:45,  5.89s/it]"
     ]
    },
    {
     "name": "stdout",
     "output_type": "stream",
     "text": [
      "Objective: 10606\n",
      "Route for vehicle 0:\n",
      " 1 ->  12 ->  31 ->  28 ->  3 ->  26 ->  47 ->  33 ->  46 ->  62 ->  78 ->  83 ->  96 ->  32 ->  50 ->  44 ->  22 ->  100 ->  16 ->  5 ->  10 ->  15 ->  36 ->  38 ->  19 ->  40 ->  34 ->  21 ->  51 ->  4 ->  84 ->  48 ->  11 ->  54 ->  82 ->  53 ->  61 ->  97 ->  45 ->  20 ->  95 ->  55 ->  23 ->  43 ->  13 ->  24 ->  6 ->  2 ->  73 ->  7 ->  93 ->  63 ->  29 ->  41 ->  81 ->  91 ->  9 ->  8 ->  60 ->  71 ->  94 ->  98 ->  39 ->  90 ->  89 ->  86 ->  59 ->  18 ->  57 ->  49 ->  35 ->  74 ->  85 ->  66 ->  101 ->  56 ->  68 ->  25 ->  30 ->  99 ->  65 ->  27 ->  42 ->  79 ->  80 ->  17 ->  67 ->  77 ->  76 ->  14 ->  37 ->  58 ->  72 ->  87 ->  70 ->  64 ->  88 ->  52 ->  75 ->  69 ->  92 -> 1\n",
      "Distance of the route: 10606m\n",
      "Total Distance of all routes: 10606m\n",
      "Time taken: 5.417293071746826 seconds\n",
      "\n",
      "\n",
      "\n",
      "The result for random-050-32693.tsp: \n"
     ]
    },
    {
     "name": "stderr",
     "output_type": "stream",
     "text": [
      "Processing 050:  32%|███▏      | 8/25 [00:57<02:07,  7.51s/it]"
     ]
    },
    {
     "name": "stdout",
     "output_type": "stream",
     "text": [
      "Objective: 10510\n",
      "Route for vehicle 0:\n",
      " 1 ->  4 ->  38 ->  19 ->  47 ->  50 ->  17 ->  67 ->  29 ->  14 ->  9 ->  88 ->  24 ->  32 ->  100 ->  18 ->  6 ->  5 ->  68 ->  25 ->  64 ->  35 ->  36 ->  21 ->  37 ->  27 ->  2 ->  23 ->  33 ->  71 ->  44 ->  69 ->  12 ->  49 ->  39 ->  73 ->  46 ->  43 ->  22 ->  8 ->  15 ->  40 ->  45 ->  34 ->  97 ->  41 ->  30 ->  85 ->  42 ->  79 ->  48 ->  93 ->  92 ->  62 ->  28 ->  16 ->  90 ->  3 ->  91 ->  31 ->  83 ->  98 ->  87 ->  80 ->  10 ->  81 ->  72 ->  7 ->  51 ->  60 ->  78 ->  75 ->  13 ->  53 ->  95 ->  99 ->  54 ->  66 ->  58 ->  89 ->  26 ->  11 ->  82 ->  61 ->  52 ->  76 ->  101 ->  65 ->  96 ->  55 ->  77 ->  59 ->  20 ->  84 ->  94 ->  74 ->  70 ->  57 ->  86 ->  63 ->  56 -> 1\n",
      "Distance of the route: 10510m\n",
      "Total Distance of all routes: 10510m\n",
      "Time taken: 10.9630126953125 seconds\n",
      "\n",
      "\n",
      "\n",
      "The result for random-050-29393.tsp: \n"
     ]
    },
    {
     "name": "stderr",
     "output_type": "stream",
     "text": [
      "Processing 050:  36%|███▌      | 9/25 [01:02<01:49,  6.85s/it]"
     ]
    },
    {
     "name": "stdout",
     "output_type": "stream",
     "text": [
      "Objective: 9552\n",
      "Route for vehicle 0:\n",
      " 1 ->  9 ->  49 ->  5 ->  4 ->  14 ->  16 ->  2 ->  31 ->  11 ->  40 ->  24 ->  7 ->  41 ->  12 ->  74 ->  38 ->  51 ->  37 ->  88 ->  52 ->  36 ->  15 ->  22 ->  3 ->  99 ->  44 ->  25 ->  35 ->  91 ->  72 ->  17 ->  94 ->  101 ->  45 ->  65 ->  64 ->  42 ->  53 ->  28 ->  87 ->  34 ->  48 ->  32 ->  6 ->  92 ->  46 ->  95 ->  43 ->  30 ->  59 ->  13 ->  82 ->  26 ->  75 ->  84 ->  50 ->  21 ->  19 ->  23 ->  73 ->  76 ->  56 ->  54 ->  61 ->  66 ->  29 ->  10 ->  39 ->  93 ->  98 ->  80 ->  8 ->  79 ->  71 ->  27 ->  89 ->  78 ->  81 ->  33 ->  83 ->  90 ->  58 ->  57 ->  55 ->  77 ->  69 ->  18 ->  63 ->  85 ->  100 ->  67 ->  47 ->  20 ->  62 ->  60 ->  97 ->  70 ->  68 ->  86 ->  96 -> 1\n",
      "Distance of the route: 9552m\n",
      "Total Distance of all routes: 9552m\n",
      "Time taken: 5.413455247879028 seconds\n",
      "\n",
      "\n",
      "\n",
      "The result for random-050-28338.tsp: \n"
     ]
    },
    {
     "name": "stderr",
     "output_type": "stream",
     "text": [
      "Processing 050:  40%|████      | 10/25 [01:12<01:55,  7.69s/it]"
     ]
    },
    {
     "name": "stdout",
     "output_type": "stream",
     "text": [
      "Objective: 9735\n",
      "Route for vehicle 0:\n",
      " 1 ->  14 ->  41 ->  39 ->  44 ->  11 ->  3 ->  25 ->  24 ->  40 ->  22 ->  8 ->  27 ->  35 ->  13 ->  63 ->  34 ->  7 ->  33 ->  21 ->  28 ->  18 ->  84 ->  2 ->  16 ->  6 ->  4 ->  46 ->  26 ->  38 ->  12 ->  49 ->  54 ->  99 ->  32 ->  19 ->  23 ->  29 ->  64 ->  57 ->  51 ->  9 ->  36 ->  45 ->  88 ->  71 ->  20 ->  83 ->  59 ->  91 ->  56 ->  42 ->  5 ->  55 ->  95 ->  15 ->  77 ->  17 ->  73 ->  70 ->  30 ->  72 ->  37 ->  82 ->  10 ->  65 ->  69 ->  68 ->  80 ->  43 ->  85 ->  60 ->  76 ->  62 ->  52 ->  93 ->  67 ->  61 ->  78 ->  48 ->  87 ->  86 ->  98 ->  89 ->  50 ->  101 ->  47 ->  66 ->  97 ->  53 ->  58 ->  79 ->  94 ->  74 ->  90 ->  100 ->  31 ->  81 ->  75 ->  96 ->  92 -> 1\n",
      "Distance of the route: 9735m\n",
      "Total Distance of all routes: 9735m\n",
      "Time taken: 9.458981037139893 seconds\n",
      "\n",
      "\n",
      "\n",
      "The result for random-050-13219.tsp: \n"
     ]
    },
    {
     "name": "stderr",
     "output_type": "stream",
     "text": [
      "Processing 050:  44%|████▍     | 11/25 [01:16<01:31,  6.57s/it]"
     ]
    },
    {
     "name": "stdout",
     "output_type": "stream",
     "text": [
      "Objective: 9365\n",
      "Route for vehicle 0:\n",
      " 1 ->  31 ->  12 ->  30 ->  16 ->  18 ->  20 ->  68 ->  22 ->  36 ->  40 ->  25 ->  14 ->  2 ->  49 ->  33 ->  45 ->  37 ->  43 ->  35 ->  5 ->  4 ->  6 ->  17 ->  23 ->  15 ->  27 ->  52 ->  34 ->  41 ->  44 ->  38 ->  9 ->  91 ->  48 ->  98 ->  54 ->  94 ->  46 ->  66 ->  77 ->  59 ->  62 ->  88 ->  10 ->  84 ->  11 ->  56 ->  42 ->  24 ->  50 ->  93 ->  75 ->  99 ->  26 ->  19 ->  3 ->  74 ->  87 ->  21 ->  76 ->  13 ->  64 ->  32 ->  8 ->  58 ->  29 ->  47 ->  67 ->  90 ->  63 ->  81 ->  39 ->  61 ->  55 ->  85 ->  28 ->  7 ->  80 ->  53 ->  95 ->  86 ->  82 ->  83 ->  60 ->  92 ->  69 ->  73 ->  78 ->  89 ->  51 ->  96 ->  70 ->  72 ->  100 ->  57 ->  79 ->  101 ->  65 ->  71 ->  97 -> 1\n",
      "Distance of the route: 9365m\n",
      "Total Distance of all routes: 9365m\n",
      "Time taken: 4.02696681022644 seconds\n",
      "\n",
      "\n",
      "\n",
      "The result for random-050-06123.tsp: \n"
     ]
    },
    {
     "name": "stderr",
     "output_type": "stream",
     "text": [
      "Processing 050:  48%|████▊     | 12/25 [01:19<01:12,  5.58s/it]"
     ]
    },
    {
     "name": "stdout",
     "output_type": "stream",
     "text": [
      "Objective: 10339\n",
      "Route for vehicle 0:\n",
      " 1 ->  27 ->  28 ->  40 ->  50 ->  20 ->  23 ->  18 ->  41 ->  68 ->  31 ->  8 ->  45 ->  33 ->  4 ->  26 ->  30 ->  12 ->  76 ->  39 ->  36 ->  51 ->  70 ->  38 ->  7 ->  43 ->  37 ->  2 ->  17 ->  57 ->  9 ->  47 ->  97 ->  44 ->  11 ->  5 ->  14 ->  86 ->  46 ->  90 ->  34 ->  73 ->  25 ->  59 ->  52 ->  10 ->  6 ->  15 ->  32 ->  81 ->  88 ->  42 ->  67 ->  84 ->  83 ->  13 ->  77 ->  87 ->  101 ->  21 ->  16 ->  61 ->  49 ->  48 ->  98 ->  56 ->  62 ->  29 ->  22 ->  93 ->  60 ->  95 ->  35 ->  79 ->  66 ->  85 ->  63 ->  80 ->  72 ->  75 ->  82 ->  3 ->  78 ->  71 ->  89 ->  24 ->  92 ->  19 ->  55 ->  54 ->  53 ->  96 ->  99 ->  65 ->  58 ->  69 ->  74 ->  100 ->  91 ->  64 ->  94 -> 1\n",
      "Distance of the route: 10339m\n",
      "Total Distance of all routes: 10339m\n",
      "Time taken: 3.303239583969116 seconds\n",
      "\n",
      "\n",
      "\n",
      "The result for random-050-04371.tsp: \n"
     ]
    },
    {
     "name": "stderr",
     "output_type": "stream",
     "text": [
      "Processing 050:  52%|█████▏    | 13/25 [01:23<01:02,  5.17s/it]"
     ]
    },
    {
     "name": "stdout",
     "output_type": "stream",
     "text": [
      "Objective: 9981\n",
      "Route for vehicle 0:\n",
      " 1 ->  29 ->  42 ->  6 ->  50 ->  3 ->  43 ->  11 ->  5 ->  9 ->  32 ->  12 ->  28 ->  31 ->  45 ->  25 ->  34 ->  23 ->  10 ->  36 ->  22 ->  39 ->  40 ->  15 ->  86 ->  79 ->  100 ->  27 ->  56 ->  16 ->  35 ->  37 ->  84 ->  13 ->  26 ->  44 ->  61 ->  4 ->  8 ->  95 ->  54 ->  51 ->  20 ->  30 ->  66 ->  38 ->  73 ->  88 ->  92 ->  60 ->  85 ->  21 ->  18 ->  2 ->  90 ->  62 ->  63 ->  72 ->  81 ->  48 ->  49 ->  47 ->  41 ->  68 ->  82 ->  53 ->  89 ->  87 ->  46 ->  96 ->  99 ->  55 ->  75 ->  24 ->  74 ->  78 ->  71 ->  77 ->  80 ->  14 ->  65 ->  101 ->  94 ->  58 ->  70 ->  97 ->  17 ->  98 ->  19 ->  93 ->  69 ->  33 ->  83 ->  64 ->  67 ->  91 ->  76 ->  7 ->  59 ->  52 ->  57 -> 1\n",
      "Distance of the route: 9981m\n",
      "Total Distance of all routes: 9981m\n",
      "Time taken: 4.226611375808716 seconds\n",
      "\n",
      "\n",
      "\n",
      "The result for random-050-15582.tsp: \n"
     ]
    },
    {
     "name": "stderr",
     "output_type": "stream",
     "text": [
      "Processing 050:  56%|█████▌    | 14/25 [01:28<00:54,  4.98s/it]"
     ]
    },
    {
     "name": "stdout",
     "output_type": "stream",
     "text": [
      "Objective: 9519\n",
      "Route for vehicle 0:\n",
      " 1 ->  40 ->  48 ->  39 ->  33 ->  10 ->  9 ->  24 ->  12 ->  42 ->  22 ->  92 ->  47 ->  37 ->  98 ->  62 ->  7 ->  29 ->  13 ->  5 ->  97 ->  31 ->  2 ->  34 ->  20 ->  30 ->  8 ->  16 ->  27 ->  44 ->  50 ->  43 ->  100 ->  38 ->  11 ->  32 ->  25 ->  36 ->  3 ->  79 ->  51 ->  46 ->  77 ->  6 ->  23 ->  74 ->  18 ->  17 ->  73 ->  90 ->  14 ->  88 ->  81 ->  4 ->  15 ->  35 ->  45 ->  59 ->  94 ->  26 ->  64 ->  70 ->  55 ->  76 ->  68 ->  63 ->  41 ->  28 ->  101 ->  82 ->  19 ->  58 ->  86 ->  53 ->  89 ->  83 ->  66 ->  93 ->  57 ->  75 ->  49 ->  56 ->  85 ->  60 ->  99 ->  69 ->  78 ->  52 ->  80 ->  72 ->  21 ->  71 ->  87 ->  84 ->  95 ->  65 ->  67 ->  96 ->  91 ->  54 ->  61 -> 1\n",
      "Distance of the route: 9519m\n",
      "Total Distance of all routes: 9519m\n",
      "Time taken: 4.543949842453003 seconds\n",
      "\n",
      "\n",
      "\n",
      "The result for random-050-21722.tsp: \n"
     ]
    },
    {
     "name": "stderr",
     "output_type": "stream",
     "text": [
      "Processing 050:  60%|██████    | 15/25 [01:34<00:52,  5.23s/it]"
     ]
    },
    {
     "name": "stdout",
     "output_type": "stream",
     "text": [
      "Objective: 9817\n",
      "Route for vehicle 0:\n",
      " 1 ->  21 ->  33 ->  51 ->  5 ->  14 ->  15 ->  41 ->  50 ->  9 ->  11 ->  42 ->  28 ->  49 ->  45 ->  78 ->  31 ->  23 ->  30 ->  35 ->  85 ->  6 ->  61 ->  19 ->  38 ->  4 ->  64 ->  10 ->  16 ->  34 ->  44 ->  8 ->  24 ->  100 ->  91 ->  32 ->  46 ->  59 ->  66 ->  58 ->  22 ->  18 ->  13 ->  3 ->  12 ->  39 ->  88 ->  48 ->  101 ->  36 ->  25 ->  27 ->  7 ->  20 ->  37 ->  17 ->  26 ->  71 ->  74 ->  2 ->  75 ->  55 ->  82 ->  29 ->  86 ->  94 ->  92 ->  65 ->  47 ->  97 ->  40 ->  52 ->  98 ->  83 ->  43 ->  79 ->  87 ->  53 ->  60 ->  67 ->  77 ->  68 ->  57 ->  54 ->  69 ->  89 ->  95 ->  76 ->  72 ->  96 ->  90 ->  84 ->  70 ->  99 ->  63 ->  80 ->  93 ->  56 ->  81 ->  62 ->  73 -> 1\n",
      "Distance of the route: 9817m\n",
      "Total Distance of all routes: 9817m\n",
      "Time taken: 5.808215856552124 seconds\n",
      "\n",
      "\n",
      "\n",
      "The result for random-050-30289.tsp: \n"
     ]
    },
    {
     "name": "stderr",
     "output_type": "stream",
     "text": [
      "Processing 050:  64%|██████▍   | 16/25 [01:47<01:09,  7.77s/it]"
     ]
    },
    {
     "name": "stdout",
     "output_type": "stream",
     "text": [
      "Objective: 9659\n",
      "Route for vehicle 0:\n",
      " 1 ->  17 ->  29 ->  13 ->  19 ->  34 ->  51 ->  12 ->  9 ->  40 ->  7 ->  50 ->  3 ->  15 ->  22 ->  65 ->  23 ->  45 ->  47 ->  11 ->  24 ->  25 ->  2 ->  4 ->  90 ->  49 ->  73 ->  84 ->  48 ->  6 ->  16 ->  38 ->  37 ->  97 ->  14 ->  8 ->  57 ->  54 ->  33 ->  39 ->  28 ->  72 ->  69 ->  67 ->  35 ->  101 ->  66 ->  26 ->  32 ->  76 ->  5 ->  18 ->  61 ->  31 ->  64 ->  75 ->  42 ->  21 ->  46 ->  55 ->  27 ->  62 ->  56 ->  44 ->  85 ->  20 ->  87 ->  43 ->  41 ->  30 ->  59 ->  53 ->  88 ->  98 ->  82 ->  79 ->  77 ->  63 ->  92 ->  70 ->  93 ->  96 ->  52 ->  58 ->  83 ->  99 ->  10 ->  36 ->  86 ->  94 ->  74 ->  78 ->  81 ->  68 ->  91 ->  95 ->  71 ->  100 ->  80 ->  89 ->  60 -> 1\n",
      "Distance of the route: 9659m\n",
      "Total Distance of all routes: 9659m\n",
      "Time taken: 13.660370826721191 seconds\n",
      "\n",
      "\n",
      "\n",
      "The result for random-050-00272.tsp: \n"
     ]
    },
    {
     "name": "stderr",
     "output_type": "stream",
     "text": [
      "Processing 050:  68%|██████▊   | 17/25 [01:54<01:00,  7.55s/it]"
     ]
    },
    {
     "name": "stdout",
     "output_type": "stream",
     "text": [
      "Objective: 9775\n",
      "Route for vehicle 0:\n",
      " 1 ->  23 ->  25 ->  42 ->  19 ->  41 ->  38 ->  20 ->  16 ->  31 ->  91 ->  14 ->  9 ->  73 ->  50 ->  4 ->  21 ->  30 ->  35 ->  85 ->  45 ->  18 ->  2 ->  26 ->  39 ->  88 ->  13 ->  75 ->  59 ->  36 ->  22 ->  32 ->  80 ->  100 ->  44 ->  7 ->  40 ->  47 ->  63 ->  90 ->  8 ->  64 ->  33 ->  89 ->  37 ->  57 ->  82 ->  27 ->  11 ->  95 ->  29 ->  34 ->  76 ->  49 ->  71 ->  17 ->  12 ->  99 ->  84 ->  62 ->  15 ->  94 ->  43 ->  46 ->  72 ->  67 ->  3 ->  68 ->  86 ->  77 ->  10 ->  69 ->  5 ->  79 ->  48 ->  96 ->  92 ->  24 ->  97 ->  93 ->  66 ->  70 ->  58 ->  81 ->  87 ->  54 ->  53 ->  51 ->  98 ->  6 ->  83 ->  55 ->  52 ->  28 ->  78 ->  61 ->  74 ->  101 ->  56 ->  65 ->  60 -> 1\n",
      "Distance of the route: 9775m\n",
      "Total Distance of all routes: 9775m\n",
      "Time taken: 7.034212827682495 seconds\n",
      "\n",
      "\n",
      "\n",
      "The result for random-050-26797.tsp: \n"
     ]
    },
    {
     "name": "stderr",
     "output_type": "stream",
     "text": [
      "Processing 050:  72%|███████▏  | 18/25 [01:59<00:47,  6.77s/it]"
     ]
    },
    {
     "name": "stdout",
     "output_type": "stream",
     "text": [
      "Objective: 10634\n",
      "Route for vehicle 0:\n",
      " 1 ->  37 ->  12 ->  62 ->  34 ->  46 ->  45 ->  27 ->  14 ->  8 ->  17 ->  21 ->  11 ->  61 ->  43 ->  20 ->  7 ->  36 ->  41 ->  10 ->  48 ->  23 ->  50 ->  6 ->  40 ->  47 ->  32 ->  35 ->  86 ->  49 ->  26 ->  99 ->  60 ->  2 ->  28 ->  82 ->  33 ->  39 ->  38 ->  76 ->  13 ->  93 ->  85 ->  67 ->  44 ->  31 ->  15 ->  88 ->  65 ->  22 ->  42 ->  97 ->  81 ->  100 ->  24 ->  18 ->  74 ->  19 ->  64 ->  57 ->  29 ->  68 ->  95 ->  25 ->  51 ->  72 ->  79 ->  96 ->  5 ->  83 ->  94 ->  84 ->  101 ->  87 ->  98 ->  73 ->  30 ->  9 ->  71 ->  4 ->  3 ->  52 ->  91 ->  16 ->  89 ->  75 ->  78 ->  80 ->  56 ->  59 ->  54 ->  53 ->  63 ->  70 ->  58 ->  55 ->  66 ->  92 ->  77 ->  69 ->  90 -> 1\n",
      "Distance of the route: 10634m\n",
      "Total Distance of all routes: 10634m\n",
      "Time taken: 4.947523832321167 seconds\n",
      "\n",
      "\n",
      "\n",
      "The result for random-050-05738.tsp: \n"
     ]
    },
    {
     "name": "stderr",
     "output_type": "stream",
     "text": [
      "Processing 050:  76%|███████▌  | 19/25 [02:07<00:42,  7.10s/it]"
     ]
    },
    {
     "name": "stdout",
     "output_type": "stream",
     "text": [
      "Objective: 9656\n",
      "Route for vehicle 0:\n",
      " 1 ->  31 ->  9 ->  47 ->  30 ->  29 ->  26 ->  6 ->  7 ->  37 ->  4 ->  22 ->  44 ->  20 ->  45 ->  17 ->  51 ->  38 ->  95 ->  10 ->  25 ->  18 ->  11 ->  40 ->  70 ->  34 ->  15 ->  5 ->  50 ->  24 ->  75 ->  36 ->  8 ->  3 ->  42 ->  23 ->  14 ->  74 ->  35 ->  16 ->  46 ->  72 ->  19 ->  48 ->  85 ->  94 ->  41 ->  98 ->  21 ->  76 ->  49 ->  33 ->  2 ->  27 ->  12 ->  97 ->  71 ->  87 ->  69 ->  86 ->  43 ->  80 ->  56 ->  101 ->  79 ->  92 ->  99 ->  58 ->  93 ->  13 ->  63 ->  96 ->  57 ->  67 ->  88 ->  28 ->  53 ->  91 ->  78 ->  73 ->  68 ->  84 ->  39 ->  81 ->  54 ->  89 ->  52 ->  59 ->  55 ->  60 ->  64 ->  61 ->  100 ->  90 ->  66 ->  77 ->  32 ->  82 ->  65 ->  83 ->  62 -> 1\n",
      "Distance of the route: 9656m\n",
      "Total Distance of all routes: 9656m\n",
      "Time taken: 7.774928331375122 seconds\n",
      "\n",
      "\n",
      "\n",
      "The result for random-050-06737.tsp: \n"
     ]
    },
    {
     "name": "stderr",
     "output_type": "stream",
     "text": [
      "Processing 050:  80%|████████  | 20/25 [02:11<00:30,  6.20s/it]"
     ]
    },
    {
     "name": "stdout",
     "output_type": "stream",
     "text": [
      "Objective: 9913\n",
      "Route for vehicle 0:\n",
      " 1 ->  8 ->  21 ->  35 ->  27 ->  49 ->  10 ->  36 ->  32 ->  50 ->  28 ->  47 ->  46 ->  24 ->  7 ->  42 ->  45 ->  5 ->  43 ->  14 ->  6 ->  48 ->  96 ->  18 ->  41 ->  22 ->  4 ->  39 ->  29 ->  100 ->  72 ->  55 ->  74 ->  79 ->  91 ->  26 ->  78 ->  12 ->  19 ->  85 ->  64 ->  57 ->  30 ->  13 ->  77 ->  60 ->  89 ->  97 ->  95 ->  25 ->  98 ->  3 ->  9 ->  92 ->  63 ->  23 ->  40 ->  99 ->  75 ->  73 ->  20 ->  62 ->  11 ->  53 ->  80 ->  70 ->  31 ->  69 ->  61 ->  51 ->  58 ->  59 ->  15 ->  37 ->  33 ->  2 ->  38 ->  68 ->  86 ->  93 ->  16 ->  101 ->  66 ->  44 ->  83 ->  52 ->  54 ->  82 ->  76 ->  34 ->  84 ->  17 ->  81 ->  56 ->  67 ->  71 ->  90 ->  88 ->  87 ->  94 ->  65 -> 1\n",
      "Distance of the route: 9913m\n",
      "Total Distance of all routes: 9913m\n",
      "Time taken: 4.094597578048706 seconds\n",
      "\n",
      "\n",
      "\n",
      "The result for random-050-19387.tsp: \n"
     ]
    },
    {
     "name": "stderr",
     "output_type": "stream",
     "text": [
      "Processing 050:  84%|████████▍ | 21/25 [02:17<00:24,  6.04s/it]"
     ]
    },
    {
     "name": "stdout",
     "output_type": "stream",
     "text": [
      "Objective: 9424\n",
      "Route for vehicle 0:\n",
      " 1 ->  37 ->  36 ->  86 ->  20 ->  4 ->  3 ->  27 ->  14 ->  44 ->  22 ->  2 ->  94 ->  38 ->  26 ->  88 ->  11 ->  45 ->  41 ->  21 ->  53 ->  29 ->  95 ->  16 ->  34 ->  13 ->  31 ->  18 ->  33 ->  25 ->  28 ->  30 ->  23 ->  81 ->  9 ->  64 ->  10 ->  47 ->  49 ->  6 ->  39 ->  17 ->  12 ->  67 ->  42 ->  60 ->  73 ->  5 ->  52 ->  51 ->  89 ->  75 ->  43 ->  78 ->  92 ->  71 ->  32 ->  59 ->  35 ->  46 ->  50 ->  56 ->  63 ->  85 ->  68 ->  70 ->  77 ->  83 ->  62 ->  66 ->  61 ->  54 ->  97 ->  48 ->  40 ->  101 ->  84 ->  55 ->  80 ->  98 ->  91 ->  19 ->  79 ->  24 ->  76 ->  15 ->  99 ->  8 ->  7 ->  82 ->  65 ->  74 ->  72 ->  87 ->  69 ->  93 ->  90 ->  100 ->  58 ->  57 ->  96 -> 1\n",
      "Distance of the route: 9424m\n",
      "Total Distance of all routes: 9424m\n",
      "Time taken: 5.670562267303467 seconds\n",
      "\n",
      "\n",
      "\n",
      "The result for random-050-01543.tsp: \n"
     ]
    },
    {
     "name": "stderr",
     "output_type": "stream",
     "text": [
      "Processing 050:  88%|████████▊ | 22/25 [02:22<00:17,  5.76s/it]"
     ]
    },
    {
     "name": "stdout",
     "output_type": "stream",
     "text": [
      "Objective: 10214\n",
      "Route for vehicle 0:\n",
      " 1 ->  44 ->  48 ->  23 ->  45 ->  22 ->  2 ->  34 ->  15 ->  21 ->  17 ->  24 ->  12 ->  3 ->  38 ->  74 ->  29 ->  42 ->  20 ->  16 ->  28 ->  53 ->  13 ->  50 ->  4 ->  51 ->  73 ->  52 ->  63 ->  65 ->  11 ->  95 ->  40 ->  94 ->  32 ->  25 ->  47 ->  37 ->  30 ->  18 ->  54 ->  6 ->  5 ->  90 ->  49 ->  31 ->  9 ->  80 ->  26 ->  100 ->  92 ->  7 ->  55 ->  101 ->  99 ->  61 ->  81 ->  98 ->  33 ->  84 ->  56 ->  19 ->  57 ->  35 ->  70 ->  36 ->  86 ->  72 ->  14 ->  62 ->  41 ->  87 ->  75 ->  83 ->  59 ->  43 ->  8 ->  97 ->  64 ->  88 ->  93 ->  79 ->  82 ->  91 ->  58 ->  68 ->  76 ->  46 ->  96 ->  67 ->  10 ->  39 ->  71 ->  78 ->  27 ->  69 ->  66 ->  77 ->  60 ->  85 ->  89 -> 1\n",
      "Distance of the route: 10214m\n",
      "Total Distance of all routes: 10214m\n",
      "Time taken: 5.105961322784424 seconds\n",
      "\n",
      "\n",
      "\n",
      "The result for random-050-01998.tsp: \n"
     ]
    },
    {
     "name": "stderr",
     "output_type": "stream",
     "text": [
      "Processing 050:  92%|█████████▏| 23/25 [02:27<00:11,  5.51s/it]"
     ]
    },
    {
     "name": "stdout",
     "output_type": "stream",
     "text": [
      "Objective: 9702\n",
      "Route for vehicle 0:\n",
      " 1 ->  48 ->  26 ->  34 ->  2 ->  9 ->  32 ->  98 ->  15 ->  38 ->  4 ->  19 ->  82 ->  18 ->  47 ->  76 ->  43 ->  50 ->  20 ->  39 ->  17 ->  27 ->  28 ->  37 ->  88 ->  42 ->  84 ->  12 ->  51 ->  3 ->  45 ->  11 ->  70 ->  62 ->  93 ->  25 ->  36 ->  44 ->  14 ->  59 ->  33 ->  5 ->  68 ->  41 ->  53 ->  13 ->  29 ->  8 ->  61 ->  58 ->  77 ->  7 ->  16 ->  54 ->  63 ->  31 ->  78 ->  30 ->  92 ->  79 ->  67 ->  101 ->  24 ->  21 ->  10 ->  100 ->  94 ->  97 ->  75 ->  22 ->  74 ->  57 ->  46 ->  71 ->  86 ->  64 ->  89 ->  35 ->  85 ->  69 ->  49 ->  60 ->  72 ->  55 ->  40 ->  99 ->  66 ->  96 ->  65 ->  95 ->  6 ->  80 ->  23 ->  56 ->  52 ->  73 ->  91 ->  87 ->  83 ->  90 ->  81 -> 1\n",
      "Distance of the route: 9702m\n",
      "Total Distance of all routes: 9702m\n",
      "Time taken: 4.903105735778809 seconds\n",
      "\n",
      "\n",
      "\n",
      "The result for random-050-11977.tsp: \n"
     ]
    },
    {
     "name": "stderr",
     "output_type": "stream",
     "text": [
      "Processing 050:  96%|█████████▌| 24/25 [02:32<00:05,  5.40s/it]"
     ]
    },
    {
     "name": "stdout",
     "output_type": "stream",
     "text": [
      "Objective: 10191\n",
      "Route for vehicle 0:\n",
      " 1 ->  19 ->  25 ->  29 ->  13 ->  24 ->  16 ->  10 ->  30 ->  47 ->  49 ->  7 ->  22 ->  18 ->  9 ->  14 ->  35 ->  2 ->  68 ->  4 ->  46 ->  20 ->  85 ->  79 ->  66 ->  41 ->  21 ->  17 ->  48 ->  8 ->  5 ->  28 ->  74 ->  70 ->  69 ->  31 ->  75 ->  54 ->  42 ->  52 ->  64 ->  32 ->  15 ->  6 ->  44 ->  98 ->  26 ->  92 ->  23 ->  37 ->  50 ->  36 ->  86 ->  38 ->  73 ->  12 ->  57 ->  80 ->  34 ->  63 ->  67 ->  71 ->  82 ->  56 ->  40 ->  51 ->  99 ->  94 ->  11 ->  76 ->  72 ->  91 ->  45 ->  27 ->  87 ->  97 ->  55 ->  96 ->  60 ->  43 ->  33 ->  3 ->  95 ->  100 ->  65 ->  81 ->  101 ->  39 ->  59 ->  88 ->  84 ->  61 ->  89 ->  78 ->  58 ->  53 ->  62 ->  77 ->  90 ->  83 ->  93 -> 1\n",
      "Distance of the route: 10191m\n",
      "Total Distance of all routes: 10191m\n",
      "Time taken: 5.144075870513916 seconds\n",
      "\n",
      "\n",
      "\n",
      "The result for random-050-16695.tsp: \n"
     ]
    },
    {
     "name": "stderr",
     "output_type": "stream",
     "text": [
      "Processing 050: 100%|██████████| 25/25 [02:44<00:00,  6.59s/it]"
     ]
    },
    {
     "name": "stdout",
     "output_type": "stream",
     "text": [
      "Objective: 9612\n",
      "Route for vehicle 0:\n",
      " 1 ->  49 ->  8 ->  48 ->  51 ->  31 ->  2 ->  19 ->  50 ->  41 ->  25 ->  101 ->  58 ->  17 ->  47 ->  37 ->  28 ->  4 ->  7 ->  32 ->  38 ->  24 ->  81 ->  36 ->  21 ->  5 ->  33 ->  91 ->  14 ->  30 ->  52 ->  87 ->  45 ->  46 ->  71 ->  10 ->  40 ->  67 ->  42 ->  9 ->  96 ->  78 ->  15 ->  16 ->  43 ->  98 ->  35 ->  95 ->  44 ->  23 ->  92 ->  64 ->  86 ->  69 ->  27 ->  22 ->  20 ->  66 ->  74 ->  70 ->  93 ->  94 ->  55 ->  3 ->  18 ->  12 ->  57 ->  88 ->  73 ->  29 ->  100 ->  80 ->  13 ->  26 ->  6 ->  97 ->  65 ->  34 ->  63 ->  53 ->  72 ->  39 ->  84 ->  60 ->  68 ->  77 ->  83 ->  76 ->  11 ->  61 ->  89 ->  99 ->  79 ->  56 ->  90 ->  75 ->  59 ->  62 ->  82 ->  85 ->  54 -> 1\n",
      "Distance of the route: 9612m\n",
      "Total Distance of all routes: 9612m\n",
      "Time taken: 12.067683219909668 seconds\n",
      "\n",
      "\n",
      "\n"
     ]
    },
    {
     "name": "stderr",
     "output_type": "stream",
     "text": [
      "\n"
=======
      "Processing files: 100%|███████████████████████| 25/25 [00:01<00:00, 15.10file/s]\n"
>>>>>>> 9e2810ffc6742992373244111dda0dcda238727e:test_read_data.ipynb
     ]
    }
   ],
   "source": [
    "for num in num_O:\n",
    "    pattern = re.compile(\".*-\" + num + \"-.*\")\n",
    "    selected_files = [file_name for file_name in instances if re.match(pattern, file_name)]\n",
    "    for selected_file in tqdm(selected_files, desc=\"Processing files\", unit=\"file\"):\n",
    "        instance = os.path.join(instance_dir, selected_file)\n",
    "        results = run_experiment(instance)\n",
    "        file_name = selected_file.replace(\".tsp\", \"\")\n",
    "        file_path = f\"./experiment_results/{file_name}.{results[1]}.txt\"\n",
    "        with open(file_path, 'w+') as file:\n",
    "            file.write(f\"The result for {selected_file}\\n\")\n",
    "            file.write(f\"{results[0]}\\n\")"
   ]
  }
 ],
 "metadata": {
  "kernelspec": {
   "display_name": "Python 3 (ipykernel)",
   "language": "python",
   "name": "python3"
  },
  "language_info": {
   "codemirror_mode": {
    "name": "ipython",
    "version": 3
   },
   "file_extension": ".py",
   "mimetype": "text/x-python",
   "name": "python",
   "nbconvert_exporter": "python",
   "pygments_lexer": "ipython3",
   "version": "3.8.16"
  }
 },
 "nbformat": 4,
 "nbformat_minor": 2
}
