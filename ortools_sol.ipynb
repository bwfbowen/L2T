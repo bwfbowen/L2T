{
 "cells": [
  {
   "cell_type": "code",
   "execution_count": null,
   "id": "00c25974",
   "metadata": {},
   "outputs": [],
   "source": [
    "import matplotlib.pyplot as plt\n",
    "import time\n",
    "\n",
    "from src.problem import MultiODProblem\n",
    "from src.ortools.ortools_formulation import ortools_formulation, ortools_pd_formulation_2D\n",
    "from src.ortools.utils import display_ortools_result, generate_paths_from_ortools_result, display_pd_ortools_result"
   ]
  },
  {
   "cell_type": "code",
   "execution_count": null,
   "id": "4dfb0a37",
   "metadata": {},
   "outputs": [],
   "source": [
    "p = MultiODProblem(num_O=10, num_taxi=1, seed=2)"
   ]
  },
  {
   "cell_type": "code",
   "execution_count": null,
   "id": "15820448",
   "metadata": {},
   "outputs": [],
   "source": [
    "start_time = time.time()\n",
    "X, solver = ortools_formulation(p, '2D')\n",
    "end_time = time.time()\n",
    "print(f\"Time taken: {end_time-start_time} seconds\")"
   ]
  },
  {
   "cell_type": "code",
   "execution_count": null,
   "id": "c82f08fc",
   "metadata": {},
   "outputs": [],
   "source": [
    "fig = display_ortools_result(X, solver, p)\n",
    "plt.show()"
   ]
  },
  {
   "cell_type": "code",
   "execution_count": null,
   "id": "e01e31f0",
   "metadata": {},
   "outputs": [],
   "source": [
    "paths = generate_paths_from_ortools_result(X)"
   ]
  },
  {
   "cell_type": "code",
   "execution_count": null,
   "id": "6acfafa5",
   "metadata": {},
   "outputs": [],
   "source": [
    "paths"
   ]
  },
  {
   "cell_type": "code",
   "execution_count": null,
   "id": "71631faa",
   "metadata": {},
   "outputs": [],
   "source": [
    "p.is_feasible(paths)"
   ]
  },
  {
   "cell_type": "code",
   "execution_count": null,
   "id": "33052bc1",
   "metadata": {},
   "outputs": [],
   "source": [
    "solver.Objective().Value()"
   ]
  },
  {
   "cell_type": "code",
   "execution_count": null,
   "id": "e1e003c2",
   "metadata": {},
   "outputs": [],
   "source": [
    "start_time = time.time()\n",
    "solution = ortools_pd_formulation_2D(p)\n",
    "end_time = time.time()\n",
    "print(f\"Time taken: {end_time-start_time} seconds\")"
   ]
  },
  {
   "cell_type": "code",
   "execution_count": null,
   "id": "5f152bb0",
   "metadata": {},
   "outputs": [],
   "source": [
    "display_pd_ortools_result(p, solution)"
   ]
  }
 ],
 "metadata": {
  "kernelspec": {
   "display_name": "Python 3 (ipykernel)",
   "language": "python",
   "name": "python3"
  },
  "language_info": {
   "codemirror_mode": {
    "name": "ipython",
    "version": 3
   },
   "file_extension": ".py",
   "mimetype": "text/x-python",
   "name": "python",
   "nbconvert_exporter": "python",
   "pygments_lexer": "ipython3",
   "version": "3.10.9"
  }
 },
 "nbformat": 4,
 "nbformat_minor": 5
}
