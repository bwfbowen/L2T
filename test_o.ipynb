{
 "cells": [
  {
   "cell_type": "code",
   "execution_count": 1,
   "metadata": {},
   "outputs": [
    {
     "name": "stderr",
     "output_type": "stream",
     "text": [
      "/opt/conda/envs/rlor38/lib/python3.8/site-packages/tqdm/auto.py:21: TqdmWarning: IProgress not found. Please update jupyter and ipywidgets. See https://ipywidgets.readthedocs.io/en/stable/user_install.html\n",
      "  from .autonotebook import tqdm as notebook_tqdm\n"
     ]
    }
   ],
   "source": [
    "from src.problem import PDP\n",
    "from src.utils import read_pdptw_instance_data\n",
    "from src.env import PDPEnv\n",
    "from src.operators import ODPairsExchangeMultiVehicles, ODPairsInsertMultiVehicles, RandomODPairsInsertMultiVehicles\n",
    "from src.actions import MultiPathsAction"
   ]
  },
  {
   "cell_type": "code",
   "execution_count": 2,
   "metadata": {},
   "outputs": [
    {
     "name": "stderr",
     "output_type": "stream",
     "text": [
      "/opt/conda/envs/rlor38/lib/python3.8/site-packages/gymnasium/spaces/box.py:130: UserWarning: \u001b[33mWARN: Box bound precision lowered by casting to float32\u001b[0m\n",
      "  gym.logger.warn(f\"Box bound precision lowered by casting to {self.dtype}\")\n"
     ]
    }
   ],
   "source": [
    "# instance_path = '/home/fangbowen/L2T/data/tsppdlib/instances/Ropke/AA45.3.pdptw'\n",
    "# locations, capacities, num_vehicles, capacity, distance_type = read_pdptw_instance_data(instance_path, capacity_slack=.2)\n",
    "# p = PDP(locations=locations, capacities=capacities, num_taxi=num_vehicles, capacity=capacity, distance_type=distance_type,\n",
    "#         ignore_from_dummy_cost=True, ignore_to_dummy_cost=True)\n",
    "p = PDP(num_O=10, num_taxi=3)\n",
    "penv = PDPEnv(p)"
   ]
  },
  {
   "cell_type": "code",
   "execution_count": 3,
   "metadata": {},
   "outputs": [],
   "source": [
    "obs, info = penv.reset()"
   ]
  },
  {
   "cell_type": "code",
   "execution_count": 4,
   "metadata": {},
   "outputs": [],
   "source": [
    "sol = penv.solution"
   ]
  },
  {
   "cell_type": "code",
   "execution_count": 48,
   "metadata": {},
   "outputs": [
    {
     "data": {
      "text/plain": [
       "{0: SliceableDeque([Node(node_id=9, OD_type=0, seq_id=1, block_id=0, in_block_seq_id=0, block_OD=0),\n",
       "                 Node(node_id=3, OD_type=0, seq_id=2, block_id=0, in_block_seq_id=1, block_OD=0)]),\n",
       " 8: SliceableDeque([Node(node_id=14, OD_type=1, seq_id=6, block_id=8, in_block_seq_id=0, block_OD=1)]),\n",
       " 12: SliceableDeque([Node(node_id=13, OD_type=1, seq_id=3, block_id=12, in_block_seq_id=0, block_OD=1),\n",
       "                 Node(node_id=19, OD_type=1, seq_id=4, block_id=12, in_block_seq_id=1, block_OD=1)]),\n",
       " 14: SliceableDeque([Node(node_id=4, OD_type=0, seq_id=5, block_id=14, in_block_seq_id=0, block_OD=0)])}"
      ]
     },
     "execution_count": 48,
     "metadata": {},
     "output_type": "execute_result"
    }
   ],
   "source": [
    "sol.paths[0].block_dict"
   ]
  },
  {
   "cell_type": "code",
   "execution_count": 45,
   "metadata": {},
   "outputs": [
    {
     "name": "stdout",
     "output_type": "stream",
     "text": [
      "1991.0\n"
     ]
    }
   ],
   "source": [
    "s, r, d1, d2, i = penv.step(11)\n",
    "print(r)"
   ]
  },
  {
   "cell_type": "code",
   "execution_count": null,
   "metadata": {},
   "outputs": [],
   "source": []
  },
  {
   "cell_type": "code",
   "execution_count": null,
   "metadata": {},
   "outputs": [],
   "source": [
    "import numpy as np "
   ]
  },
  {
   "cell_type": "code",
   "execution_count": null,
   "metadata": {},
   "outputs": [],
   "source": [
    "%%timeit\n",
    "n = 200\n",
    "for i in range(n):\n",
    "    for j in range(n):\n",
    "        [1 for _ in range(n // 10)]"
   ]
  },
  {
   "cell_type": "code",
   "execution_count": null,
   "metadata": {},
   "outputs": [],
   "source": [
    "n = 200\n",
    "a = np.ones((n,))"
   ]
  },
  {
   "cell_type": "code",
   "execution_count": null,
   "metadata": {},
   "outputs": [],
   "source": [
    "%%timeit\n",
    "n = 200\n",
    "for i in range(n):\n",
    "    for j in range(n):\n",
    "        [1 for _ in range(n // 10)]\n",
    "        np.cumsum(a)"
   ]
  },
  {
   "cell_type": "code",
   "execution_count": null,
   "metadata": {},
   "outputs": [],
   "source": [
    "import random "
   ]
  },
  {
   "cell_type": "code",
   "execution_count": null,
   "metadata": {},
   "outputs": [],
   "source": [
    "p1 = sol.paths[0]"
   ]
  },
  {
   "cell_type": "code",
   "execution_count": null,
   "metadata": {},
   "outputs": [],
   "source": [
    "p1.seq_dict"
   ]
  },
  {
   "cell_type": "code",
   "execution_count": null,
   "metadata": {},
   "outputs": [],
   "source": [
    "node = p1.seq_dict[1]\n",
    "(node.prev_node.OD_type != node.OD_type and node.next_node.OD_type != node.OD_type)\n",
    "# (node.prev_node is None or node.prev_node.block_id is None)"
   ]
  },
  {
   "cell_type": "code",
   "execution_count": null,
   "metadata": {},
   "outputs": [],
   "source": [
    "p1.block_dict"
   ]
  },
  {
   "cell_type": "code",
   "execution_count": null,
   "metadata": {},
   "outputs": [],
   "source": [
    "sol.insert_within_path(67, 11, path=p1)"
   ]
  },
  {
   "cell_type": "code",
   "execution_count": null,
   "metadata": {},
   "outputs": [],
   "source": [
    "d = {i:i for i in range(10)}\n",
    "np.random.shuffle(list(d.keys()))\n",
    "d.keys()"
   ]
  },
  {
   "cell_type": "code",
   "execution_count": null,
   "metadata": {},
   "outputs": [],
   "source": [
    "import random\n",
    "import itertools\n",
    "\n",
    "def feasible_splits_generator(keys, capacities, num_splits, max_capacity_per_split):\n",
    "    while True:  # Infinite loop to keep generating feasible splits.\n",
    "        shuffled_keys = random.sample(keys, len(keys))  # Shuffle keys before generating permutations.\n",
    "        for perm in itertools.permutations(shuffled_keys):\n",
    "            splits = [{} for _ in range(num_splits)]\n",
    "            capacities_left = [max_capacity_per_split for _ in range(num_splits)]\n",
    "            is_feasible = True\n",
    "            for key in perm:\n",
    "                allocated = False\n",
    "                for i in range(num_splits):\n",
    "                    if capacities_left[i] >= capacities[key]:\n",
    "                        splits[i][key] = True  # Placeholder, replace with actual value from original dict.\n",
    "                        capacities_left[i] -= capacities[key]\n",
    "                        allocated = True\n",
    "                        break\n",
    "                if not allocated:\n",
    "                    is_feasible = False\n",
    "                    break\n",
    "            if is_feasible:\n",
    "                yield splits\n",
    "\n",
    "\n",
    "def random_split_dict(d, num_splits, capacities, max_capacity_per_split):\n",
    "    keys = list(d.keys())\n",
    "    gen = feasible_splits_generator(keys, capacities, num_splits, max_capacity_per_split)\n",
    "    selected_split = next(gen)\n",
    "    final_splits = [{key: d[key] for key in split.keys()} for split in selected_split]\n",
    "    return final_splits\n",
    "\n",
    "\n",
    "# Example Usage:\n",
    "d = {'a': 1, 'b': 2, 'c': 3, 'd': 4, 'e': 5}\n",
    "capacities = {'a': 10, 'b': 20, 'c': 30, 'd': 40, 'e': 50}\n",
    "max_capacity_per_split = 80  # Example value\n",
    "num_splits = 3  # Example value\n",
    "\n",
    "print(random_split_dict(d, num_splits, capacities, max_capacity_per_split))\n"
   ]
  },
  {
   "cell_type": "code",
   "execution_count": null,
   "metadata": {},
   "outputs": [],
   "source": []
  }
 ],
 "metadata": {
  "kernelspec": {
   "display_name": "rlor38",
   "language": "python",
   "name": "python3"
  },
  "language_info": {
   "codemirror_mode": {
    "name": "ipython",
    "version": 3
   },
   "file_extension": ".py",
   "mimetype": "text/x-python",
   "name": "python",
   "nbconvert_exporter": "python",
   "pygments_lexer": "ipython3",
   "version": "3.8.17"
  },
  "orig_nbformat": 4
 },
 "nbformat": 4,
 "nbformat_minor": 2
}
