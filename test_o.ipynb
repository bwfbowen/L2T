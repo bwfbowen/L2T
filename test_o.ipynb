{
 "cells": [
  {
   "cell_type": "code",
   "execution_count": 1,
   "metadata": {},
   "outputs": [],
   "source": [
    "from src.problem import PDP\n",
    "from src.utils import read_pdptw_instance_data\n",
    "from src.operators import ODPairsExchangeMultiVehicles, ODPairsInsertMultiVehicles\n",
    "from src.actions import MultiPathsAction"
   ]
  },
  {
   "cell_type": "code",
   "execution_count": 2,
   "metadata": {},
   "outputs": [],
   "source": [
    "instance_path = '/home/fangbowen/L2T/data/tsppdlib/instances/Ropke/AA45.3.pdptw'\n",
    "locations, capacities, num_vehicles, capacity, distance_type = read_pdptw_instance_data(instance_path, capacity_slack=.2)\n",
    "p = PDP(locations=locations, capacities=capacities, num_taxi=num_vehicles, capacity=capacity, distance_type=distance_type,\n",
    "        ignore_from_dummy_cost=True, ignore_to_dummy_cost=True)\n",
    "# p = PDP(num_O=10, num_taxi=3)"
   ]
  },
  {
   "cell_type": "code",
   "execution_count": 3,
   "metadata": {},
   "outputs": [],
   "source": [
    "sol = p.generate_feasible_solution()"
   ]
  },
  {
   "cell_type": "code",
   "execution_count": null,
   "metadata": {},
   "outputs": [],
   "source": [
    "p1 = sol.paths[2]"
   ]
  },
  {
   "cell_type": "code",
   "execution_count": null,
   "metadata": {},
   "outputs": [],
   "source": [
    "p0 = sol.paths[0]"
   ]
  },
  {
   "cell_type": "code",
   "execution_count": 4,
   "metadata": {},
   "outputs": [],
   "source": [
    "o1 = ODPairsInsertMultiVehicles()\n",
    "o2 = ODPairsExchangeMultiVehicles()\n",
    "a1 = MultiPathsAction(0, o1)\n",
    "a2 = MultiPathsAction(1, o2)"
   ]
  },
  {
   "cell_type": "code",
   "execution_count": 5,
   "metadata": {},
   "outputs": [],
   "source": [
    "class Env:\n",
    "    def __init__(self, sol) -> None:\n",
    "        self.solution = sol "
   ]
  },
  {
   "cell_type": "code",
   "execution_count": 6,
   "metadata": {},
   "outputs": [],
   "source": [
    "env = Env(sol)"
   ]
  },
  {
   "cell_type": "code",
   "execution_count": null,
   "metadata": {},
   "outputs": [],
   "source": [
    "p0.seq_dict"
   ]
  },
  {
   "cell_type": "code",
   "execution_count": null,
   "metadata": {},
   "outputs": [],
   "source": [
    "p1.seq_dict"
   ]
  },
  {
   "cell_type": "code",
   "execution_count": null,
   "metadata": {},
   "outputs": [],
   "source": [
    "p.OD_mapping"
   ]
  },
  {
   "cell_type": "code",
   "execution_count": 13,
   "metadata": {},
   "outputs": [
    {
     "name": "stdout",
     "output_type": "stream",
     "text": [
      "True\n",
      "0.0\n"
     ]
    }
   ],
   "source": [
    "improved_solution, all_delta = a2(env)\n",
    "print(p.is_feasible(improved_solution))\n",
    "print(all_delta)"
   ]
  },
  {
   "cell_type": "code",
   "execution_count": null,
   "metadata": {},
   "outputs": [],
   "source": [
    "(ps), d, l = o1(solution=sol, path_id1=1, path_id2=2)\n",
    "print(p.is_feasible(sol))\n",
    "if l:\n",
    "    print(d)"
   ]
  },
  {
   "cell_type": "code",
   "execution_count": null,
   "metadata": {},
   "outputs": [],
   "source": [
    "import numpy as np "
   ]
  },
  {
   "cell_type": "code",
   "execution_count": null,
   "metadata": {},
   "outputs": [],
   "source": [
    "%%timeit\n",
    "n = 200\n",
    "for i in range(n):\n",
    "    for j in range(n):\n",
    "        [1 for _ in range(n // 10)]"
   ]
  },
  {
   "cell_type": "code",
   "execution_count": null,
   "metadata": {},
   "outputs": [],
   "source": [
    "n = 200\n",
    "a = np.ones((n,))"
   ]
  },
  {
   "cell_type": "code",
   "execution_count": null,
   "metadata": {},
   "outputs": [],
   "source": [
    "%%timeit\n",
    "n = 200\n",
    "for i in range(n):\n",
    "    for j in range(n):\n",
    "        [1 for _ in range(n // 10)]\n",
    "        np.cumsum(a)"
   ]
  },
  {
   "cell_type": "code",
   "execution_count": null,
   "metadata": {},
   "outputs": [],
   "source": [
    "import random "
   ]
  },
  {
   "cell_type": "code",
   "execution_count": null,
   "metadata": {},
   "outputs": [],
   "source": [
    "p1 = sol.paths[0]"
   ]
  },
  {
   "cell_type": "code",
   "execution_count": null,
   "metadata": {},
   "outputs": [],
   "source": [
    "p1.seq_dict"
   ]
  },
  {
   "cell_type": "code",
   "execution_count": null,
   "metadata": {},
   "outputs": [],
   "source": [
    "node = p1.seq_dict[1]\n",
    "(node.prev_node.OD_type != node.OD_type and node.next_node.OD_type != node.OD_type)\n",
    "# (node.prev_node is None or node.prev_node.block_id is None)"
   ]
  },
  {
   "cell_type": "code",
   "execution_count": null,
   "metadata": {},
   "outputs": [],
   "source": [
    "p1.block_dict"
   ]
  },
  {
   "cell_type": "code",
   "execution_count": null,
   "metadata": {},
   "outputs": [],
   "source": [
    "sol.insert_within_path(67, 11, path=p1)"
   ]
  },
  {
   "cell_type": "code",
   "execution_count": null,
   "metadata": {},
   "outputs": [],
   "source": [
    "d = {i:i for i in range(10)}\n",
    "np.random.shuffle(list(d.keys()))\n",
    "d.keys()"
   ]
  },
  {
   "cell_type": "code",
   "execution_count": null,
   "metadata": {},
   "outputs": [],
   "source": [
    "import random\n",
    "import itertools\n",
    "\n",
    "def feasible_splits_generator(keys, capacities, num_splits, max_capacity_per_split):\n",
    "    while True:  # Infinite loop to keep generating feasible splits.\n",
    "        shuffled_keys = random.sample(keys, len(keys))  # Shuffle keys before generating permutations.\n",
    "        for perm in itertools.permutations(shuffled_keys):\n",
    "            splits = [{} for _ in range(num_splits)]\n",
    "            capacities_left = [max_capacity_per_split for _ in range(num_splits)]\n",
    "            is_feasible = True\n",
    "            for key in perm:\n",
    "                allocated = False\n",
    "                for i in range(num_splits):\n",
    "                    if capacities_left[i] >= capacities[key]:\n",
    "                        splits[i][key] = True  # Placeholder, replace with actual value from original dict.\n",
    "                        capacities_left[i] -= capacities[key]\n",
    "                        allocated = True\n",
    "                        break\n",
    "                if not allocated:\n",
    "                    is_feasible = False\n",
    "                    break\n",
    "            if is_feasible:\n",
    "                yield splits\n",
    "\n",
    "\n",
    "def random_split_dict(d, num_splits, capacities, max_capacity_per_split):\n",
    "    keys = list(d.keys())\n",
    "    gen = feasible_splits_generator(keys, capacities, num_splits, max_capacity_per_split)\n",
    "    selected_split = next(gen)\n",
    "    final_splits = [{key: d[key] for key in split.keys()} for split in selected_split]\n",
    "    return final_splits\n",
    "\n",
    "\n",
    "# Example Usage:\n",
    "d = {'a': 1, 'b': 2, 'c': 3, 'd': 4, 'e': 5}\n",
    "capacities = {'a': 10, 'b': 20, 'c': 30, 'd': 40, 'e': 50}\n",
    "max_capacity_per_split = 80  # Example value\n",
    "num_splits = 3  # Example value\n",
    "\n",
    "print(random_split_dict(d, num_splits, capacities, max_capacity_per_split))\n"
   ]
  },
  {
   "cell_type": "code",
   "execution_count": null,
   "metadata": {},
   "outputs": [],
   "source": []
  }
 ],
 "metadata": {
  "kernelspec": {
   "display_name": "rlor38",
   "language": "python",
   "name": "python3"
  },
  "language_info": {
   "codemirror_mode": {
    "name": "ipython",
    "version": 3
   },
   "file_extension": ".py",
   "mimetype": "text/x-python",
   "name": "python",
   "nbconvert_exporter": "python",
   "pygments_lexer": "ipython3",
   "version": "3.8.16"
  },
  "orig_nbformat": 4
 },
 "nbformat": 4,
 "nbformat_minor": 2
}
