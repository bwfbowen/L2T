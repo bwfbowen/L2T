{
  "cells": [
    {
      "cell_type": "code",
      "execution_count": null,
      "metadata": {
        "id": "gJYcHkTlsar9"
      },
      "outputs": [],
      "source": [
        "import numpy as np\n",
        "import os\n",
        "import random \n",
        "import torch\n",
        "from torch.autograd import Variable\n",
        "\n",
        "%matplotlib inline"
      ]
    },
    {
      "cell_type": "code",
      "execution_count": null,
      "metadata": {
        "id": "nX2_M39SsasI"
      },
      "outputs": [],
      "source": [
        "USE_CUDA = True\n",
        "\n",
        "# hyperparameter\n",
        "num_episodes = 100\n",
        "max_episode_steps = 1000\n",
        "max_time = 2 * 3600\n",
        "num_O = 50\n",
        "input_dim = 2\n",
        "embedding_dim = 128\n",
        "batch_size = 1\n",
        "hidden_dim = 128\n",
        "process_iters = 3\n",
        "tsp_num = num_O * 2 + 2\n",
        "train_size = 1 #1000000\n",
        "validation_size = 1\n",
        "lr = 1e-4\n",
        "beta = 0.9\n",
        "num_glimpse = 1\n",
        "punishment = 1e5\n",
        "save_to_dir = '../tmp/pointer'\n",
        "resample_k = 5"
      ]
    },
    {
      "cell_type": "code",
      "execution_count": null,
      "metadata": {
        "colab": {
          "base_uri": "https://localhost:8080/"
        },
        "id": "xcPF686dsasJ",
        "outputId": "d84d0c44-7314-439a-ae1f-65123dbced04"
      },
      "outputs": [],
      "source": [
        "from src.utils import read_instance_data \n",
        "\n",
        "instance_dir = os.path.join('data', 'tsppdlib', 'instances', 'random-uniform')\n",
        "instances = [i for i in os.listdir(instance_dir) if i.endswith('.tsp')]\n",
        "sub_instances = [i for i in instances if '-' + f'{num_O:03}' + '-' in i]\n",
        "sub_instances = random.sample(sub_instances, k=resample_k)\n",
        "\n",
        "\n",
        "def generate_tsp_data(instance):\n",
        "    '''\n",
        "    Generate tsp data\n",
        "\n",
        "    Return:\n",
        "    tsp_data (tensor): shape (1, tsp_num, 2)\n",
        "    '''\n",
        "    # tsp_data = torch.FloatTensor(tsp_num, input_dim).uniform_(0, 1)\n",
        "    locations = read_instance_data(instance)\n",
        "    _locations = []\n",
        "    _locations.append(locations['dummy'] if 'dummy' in locations else [0,0])\n",
        "    _locations.append(locations['taxi'] if 'taxi' in locations else np.random.uniform(size=(1, 2)))\n",
        "    _locations.append(locations['O'])\n",
        "    _locations.append(locations['D'])\n",
        "    _locations = np.vstack(_locations)\n",
        "    tsp_data = torch.FloatTensor(_locations)\n",
        "    return tsp_data.unsqueeze(0)"
      ]
    },
    {
      "cell_type": "code",
      "execution_count": null,
      "metadata": {
        "colab": {
          "base_uri": "https://localhost:8080/",
          "height": 468
        },
        "id": "GGvUZ_GJsasK",
        "outputId": "e3e72406-5c7c-4406-ba2b-b7cc1ae6f326"
      },
      "outputs": [],
      "source": [
        "from src.rl.pointernet.nn import Model\n",
        "from src.rl.pointernet.train import Train\n",
        "from src.problem import MultiODProblem\n",
        "from src.solution import MultiODSolution\n",
        "\n",
        "for i in range(len(sub_instances)):\n",
        "    instance = os.path.join(instance_dir, sub_instances[i])\n",
        "    train_dataset = [generate_tsp_data(instance) for _ in range(train_size)]\n",
        "    validation_dataset = [generate_tsp_data(instance) for _ in range(validation_size)]\n",
        "    print(\"train dataset size: \", len(train_dataset))\n",
        "    print(\"validation dataset size: \", len(validation_dataset))\n",
        "    precedence = {o:(d:=num_O + o) for o in range(2, 2 + num_O)}\n",
        "    # moving average reward\n",
        "    moving_average_model = Model(input_dim=input_dim, embedding_dim=embedding_dim, hidden_dim=hidden_dim, seq_len=tsp_num, precedence=precedence, punishment=punishment, batch_size=batch_size, use_cuda=USE_CUDA)\n",
        "    if USE_CUDA:\n",
        "        moving_average_model  = moving_average_model .cuda()\n",
        "    train = Train(moving_average_model , train_dataset, validation_dataset, batch_size, lr=lr, max_time=max_time)\n",
        "    train.train_and_validation(num_episodes, max_episode_steps, use_critic = False)\n",
        "    # save result:\n",
        "    \n",
        "    print(\"index list: \", train.best_tour)\n",
        "    locations = read_instance_data(instance)\n",
        "    problem = MultiODProblem(locations=locations, ignore_to_dummy_cost=False, ignore_from_dummy_cost=False)\n",
        "    problem.convert_distance_matrix_to_int()\n",
        "    ptr_sol = MultiODSolution([train.best_tour], problem)\n",
        "    is_feasible = problem.is_feasible(ptr_sol)\n",
        "    cost = problem.calc_cost(ptr_sol) if is_feasible else None\n",
        "    lines = [f'is_feasible: {is_feasible}', f'tour: {train.best_tour}', f'cost: {cost}']\n",
        "    instance_save_header = sub_instances[i].replace(\".tsp\", \"\")\n",
        "    with open(os.path.join(save_to_dir, f'{instance_save_header}.txt'), 'w') as f:\n",
        "        for line in lines:\n",
        "            f.write(line + '\\n')"
      ]
    },
    {
      "cell_type": "code",
      "execution_count": null,
      "metadata": {},
      "outputs": [],
      "source": [
        "print(\"index list: \", train.best_tour)\n",
        "locations = read_instance_data(instance)\n",
        "problem = MultiODProblem(locations=locations, ignore_to_dummy_cost=False, ignore_from_dummy_cost=False)\n",
        "problem.convert_distance_matrix_to_int()\n",
        "ptr_sol = MultiODSolution([train.best_tour], problem)\n",
        "is_feasible = problem.is_feasible(ptr_sol)\n",
        "cost = problem.calc_cost(ptr_sol) if is_feasible else None\n",
        "lines = [f'is_feasible: {is_feasible}', f'tour: {train.best_tour}', f'cost: {cost}']\n",
        "instance_save_header = sub_instances[i].replace(\".tsp\", \"\")\n",
        "with open(os.path.join(save_to_dir, f'{instance_save_header}.txt'), 'w') as f:\n",
        "    for line in lines:\n",
        "        f.write(line + '\\n')"
      ]
    }
  ],
  "metadata": {
    "accelerator": "GPU",
    "colab": {
      "collapsed_sections": [
        "pv8GKa0Csar_",
        "EM7miokRsar_",
        "cpT8ljTIsasB",
        "U1puaIRJsasE",
        "dvw5PjU3sasF",
        "fruA6QL_sasG",
        "yrOhU4eesasI"
      ],
      "gpuType": "T4",
      "provenance": []
    },
    "kernelspec": {
      "display_name": "Python 3",
      "name": "python3"
    },
    "language_info": {
      "codemirror_mode": {
        "name": "ipython",
        "version": 3
      },
      "file_extension": ".py",
      "mimetype": "text/x-python",
      "name": "python",
      "nbconvert_exporter": "python",
      "pygments_lexer": "ipython3",
      "version": "3.8.17"
    }
  },
  "nbformat": 4,
  "nbformat_minor": 0
}
